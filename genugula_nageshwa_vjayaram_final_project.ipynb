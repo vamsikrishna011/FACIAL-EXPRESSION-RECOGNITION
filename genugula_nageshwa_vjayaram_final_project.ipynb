{
 "cells": [
  {
   "cell_type": "code",
   "execution_count": 1,
   "id": "9a2b836d",
   "metadata": {
    "colab": {
     "base_uri": "https://localhost:8080/"
    },
    "id": "9a2b836d",
    "outputId": "0aab282c-8c02-4841-cd69-2825dce48c4a"
   },
   "outputs": [],
   "source": [
    "import torch.nn as nn\n",
    "import torchvision\n",
    "import torchvision.transforms as transforms\n",
    "from sklearn import preprocessing\n",
    "import seaborn as sns\n",
    "import matplotlib.pyplot as plt\n",
    "import pandas as pd\n",
    "import numpy as np\n",
    "import math\n",
    "import os\n",
    "import torch\n",
    "from PIL import Image\n",
    "from torch.utils.data import DataLoader, TensorDataset,Dataset,random_split\n",
    "import time\n",
    "from sklearn.metrics import accuracy_score, precision_score, recall_score, f1_score,confusion_matrix\n",
    "import torch.optim as optim\n",
    "from torchvision.datasets import ImageFolder\n",
    "from torchinfo import summary\n",
    "from sklearn.model_selection import train_test_split\n",
    "import torch.nn.functional as F\n",
    "import datetime\n",
    "from sklearn.metrics import accuracy_score, precision_score, recall_score, f1_score,confusion_matrix\n",
    "from sklearn.metrics import precision_recall_fscore_support"
   ]
  },
  {
   "cell_type": "code",
   "execution_count": 2,
   "id": "202473a5",
   "metadata": {
    "colab": {
     "base_uri": "https://localhost:8080/"
    },
    "id": "202473a5",
    "outputId": "c01631c3-f517-4a18-ded7-b6455690a07f"
   },
   "outputs": [],
   "source": [
    "data = pd.read_csv('icml_face_data.csv')"
   ]
  },
  {
   "cell_type": "code",
   "execution_count": 3,
   "id": "48d993af",
   "metadata": {},
   "outputs": [],
   "source": [
    "data.rename(columns = {' Usage': 'Usage', ' pixels': 'Pixels'}, inplace=True)"
   ]
  },
  {
   "cell_type": "code",
   "execution_count": 4,
   "id": "2549f853",
   "metadata": {},
   "outputs": [
    {
     "data": {
      "text/html": [
       "<div>\n",
       "<style scoped>\n",
       "    .dataframe tbody tr th:only-of-type {\n",
       "        vertical-align: middle;\n",
       "    }\n",
       "\n",
       "    .dataframe tbody tr th {\n",
       "        vertical-align: top;\n",
       "    }\n",
       "\n",
       "    .dataframe thead th {\n",
       "        text-align: right;\n",
       "    }\n",
       "</style>\n",
       "<table border=\"1\" class=\"dataframe\">\n",
       "  <thead>\n",
       "    <tr style=\"text-align: right;\">\n",
       "      <th></th>\n",
       "      <th>emotion</th>\n",
       "      <th>Usage</th>\n",
       "      <th>Pixels</th>\n",
       "    </tr>\n",
       "  </thead>\n",
       "  <tbody>\n",
       "    <tr>\n",
       "      <th>0</th>\n",
       "      <td>0</td>\n",
       "      <td>Training</td>\n",
       "      <td>70 80 82 72 58 58 60 63 54 58 60 48 89 115 121...</td>\n",
       "    </tr>\n",
       "    <tr>\n",
       "      <th>1</th>\n",
       "      <td>0</td>\n",
       "      <td>Training</td>\n",
       "      <td>151 150 147 155 148 133 111 140 170 174 182 15...</td>\n",
       "    </tr>\n",
       "    <tr>\n",
       "      <th>2</th>\n",
       "      <td>2</td>\n",
       "      <td>Training</td>\n",
       "      <td>231 212 156 164 174 138 161 173 182 200 106 38...</td>\n",
       "    </tr>\n",
       "    <tr>\n",
       "      <th>3</th>\n",
       "      <td>4</td>\n",
       "      <td>Training</td>\n",
       "      <td>24 32 36 30 32 23 19 20 30 41 21 22 32 34 21 1...</td>\n",
       "    </tr>\n",
       "    <tr>\n",
       "      <th>4</th>\n",
       "      <td>6</td>\n",
       "      <td>Training</td>\n",
       "      <td>4 0 0 0 0 0 0 0 0 0 0 0 3 15 23 28 48 50 58 84...</td>\n",
       "    </tr>\n",
       "    <tr>\n",
       "      <th>...</th>\n",
       "      <td>...</td>\n",
       "      <td>...</td>\n",
       "      <td>...</td>\n",
       "    </tr>\n",
       "    <tr>\n",
       "      <th>35882</th>\n",
       "      <td>6</td>\n",
       "      <td>PrivateTest</td>\n",
       "      <td>50 36 17 22 23 29 33 39 34 37 37 37 39 43 48 5...</td>\n",
       "    </tr>\n",
       "    <tr>\n",
       "      <th>35883</th>\n",
       "      <td>3</td>\n",
       "      <td>PrivateTest</td>\n",
       "      <td>178 174 172 173 181 188 191 194 196 199 200 20...</td>\n",
       "    </tr>\n",
       "    <tr>\n",
       "      <th>35884</th>\n",
       "      <td>0</td>\n",
       "      <td>PrivateTest</td>\n",
       "      <td>17 17 16 23 28 22 19 17 25 26 20 24 31 19 27 9...</td>\n",
       "    </tr>\n",
       "    <tr>\n",
       "      <th>35885</th>\n",
       "      <td>3</td>\n",
       "      <td>PrivateTest</td>\n",
       "      <td>30 28 28 29 31 30 42 68 79 81 77 67 67 71 63 6...</td>\n",
       "    </tr>\n",
       "    <tr>\n",
       "      <th>35886</th>\n",
       "      <td>2</td>\n",
       "      <td>PrivateTest</td>\n",
       "      <td>19 13 14 12 13 16 21 33 50 57 71 84 97 108 122...</td>\n",
       "    </tr>\n",
       "  </tbody>\n",
       "</table>\n",
       "<p>35887 rows × 3 columns</p>\n",
       "</div>"
      ],
      "text/plain": [
       "       emotion        Usage                                             Pixels\n",
       "0            0     Training  70 80 82 72 58 58 60 63 54 58 60 48 89 115 121...\n",
       "1            0     Training  151 150 147 155 148 133 111 140 170 174 182 15...\n",
       "2            2     Training  231 212 156 164 174 138 161 173 182 200 106 38...\n",
       "3            4     Training  24 32 36 30 32 23 19 20 30 41 21 22 32 34 21 1...\n",
       "4            6     Training  4 0 0 0 0 0 0 0 0 0 0 0 3 15 23 28 48 50 58 84...\n",
       "...        ...          ...                                                ...\n",
       "35882        6  PrivateTest  50 36 17 22 23 29 33 39 34 37 37 37 39 43 48 5...\n",
       "35883        3  PrivateTest  178 174 172 173 181 188 191 194 196 199 200 20...\n",
       "35884        0  PrivateTest  17 17 16 23 28 22 19 17 25 26 20 24 31 19 27 9...\n",
       "35885        3  PrivateTest  30 28 28 29 31 30 42 68 79 81 77 67 67 71 63 6...\n",
       "35886        2  PrivateTest  19 13 14 12 13 16 21 33 50 57 71 84 97 108 122...\n",
       "\n",
       "[35887 rows x 3 columns]"
      ]
     },
     "execution_count": 4,
     "metadata": {},
     "output_type": "execute_result"
    }
   ],
   "source": [
    "data"
   ]
  },
  {
   "cell_type": "code",
   "execution_count": 5,
   "id": "2eb68446",
   "metadata": {},
   "outputs": [
    {
     "data": {
      "image/png": "[encoded data removed]",
      "text/plain": [
       "<Figure size 720x432 with 1 Axes>"
      ]
     },
     "metadata": {
      "needs_background": "light"
     },
     "output_type": "display_data"
    }
   ],
   "source": [
    "import matplotlib.pyplot as plt\n",
    "import seaborn as sns\n",
    "\n",
    "plt.figure(figsize=(10, 6))\n",
    "sns.countplot(x='emotion', data = data)\n",
    "plt.title('Distribution of Emotions in the Dataset')\n",
    "plt.xlabel('Emotion')\n",
    "plt.ylabel('Count')\n",
    "plt.show()"
   ]
  },
  {
   "cell_type": "code",
   "execution_count": 6,
   "id": "0d2a0f2c",
   "metadata": {},
   "outputs": [],
   "source": [
    "data['Pixels'] = data['Pixels'].apply(lambda x: np.array(x.split(), dtype = np.uint8))"
   ]
  },
  {
   "cell_type": "code",
   "execution_count": 7,
   "id": "e00fb58b",
   "metadata": {},
   "outputs": [
    {
     "data": {
      "image/png": "[encoded data removed]",
      "text/plain": [
       "<Figure size 1080x360 with 5 Axes>"
      ]
     },
     "metadata": {
      "needs_background": "light"
     },
     "output_type": "display_data"
    },
    {
     "name": "stdout",
     "output_type": "stream",
     "text": [
      "['Surprise', 'Neutral', 'Sad', 'Angry', 'Sad']\n"
     ]
    }
   ],
   "source": [
    "sample_indices = np.random.choice(len(data), 5, replace=False)\n",
    "emotions = {0: 'Angry', 1: 'Disgust', 2: 'Fear', 3: 'Happy', 4: 'Sad', 5: 'Surprise', 6: 'Neutral'}\n",
    "fig, axes = plt.subplots(1,5, figsize=(15, 5))\n",
    "op = []\n",
    "for i, index in enumerate(sample_indices):\n",
    "    emotion = data['emotion'][index]\n",
    "    pixels = data['Pixels'][index]\n",
    "    image = pixels.reshape(48, 48) \n",
    "\n",
    "    axes[i].imshow(image, cmap='gray')\n",
    "    op.append(emotions[emotion])\n",
    "    axes[i].axis('off')\n",
    "\n",
    "plt.show()\n",
    "print(op)"
   ]
  },
  {
   "cell_type": "code",
   "execution_count": 8,
   "id": "ab1afd54",
   "metadata": {},
   "outputs": [
    {
     "data": {
      "text/html": [
       "<div>\n",
       "<style scoped>\n",
       "    .dataframe tbody tr th:only-of-type {\n",
       "        vertical-align: middle;\n",
       "    }\n",
       "\n",
       "    .dataframe tbody tr th {\n",
       "        vertical-align: top;\n",
       "    }\n",
       "\n",
       "    .dataframe thead th {\n",
       "        text-align: right;\n",
       "    }\n",
       "</style>\n",
       "<table border=\"1\" class=\"dataframe\">\n",
       "  <thead>\n",
       "    <tr style=\"text-align: right;\">\n",
       "      <th></th>\n",
       "      <th>emotion</th>\n",
       "    </tr>\n",
       "  </thead>\n",
       "  <tbody>\n",
       "    <tr>\n",
       "      <th>count</th>\n",
       "      <td>35887.000000</td>\n",
       "    </tr>\n",
       "    <tr>\n",
       "      <th>mean</th>\n",
       "      <td>3.323265</td>\n",
       "    </tr>\n",
       "    <tr>\n",
       "      <th>std</th>\n",
       "      <td>1.873819</td>\n",
       "    </tr>\n",
       "    <tr>\n",
       "      <th>min</th>\n",
       "      <td>0.000000</td>\n",
       "    </tr>\n",
       "    <tr>\n",
       "      <th>25%</th>\n",
       "      <td>2.000000</td>\n",
       "    </tr>\n",
       "    <tr>\n",
       "      <th>50%</th>\n",
       "      <td>3.000000</td>\n",
       "    </tr>\n",
       "    <tr>\n",
       "      <th>75%</th>\n",
       "      <td>5.000000</td>\n",
       "    </tr>\n",
       "    <tr>\n",
       "      <th>max</th>\n",
       "      <td>6.000000</td>\n",
       "    </tr>\n",
       "  </tbody>\n",
       "</table>\n",
       "</div>"
      ],
      "text/plain": [
       "            emotion\n",
       "count  35887.000000\n",
       "mean       3.323265\n",
       "std        1.873819\n",
       "min        0.000000\n",
       "25%        2.000000\n",
       "50%        3.000000\n",
       "75%        5.000000\n",
       "max        6.000000"
      ]
     },
     "execution_count": 8,
     "metadata": {},
     "output_type": "execute_result"
    }
   ],
   "source": [
    "data.describe()"
   ]
  },
  {
   "cell_type": "code",
   "execution_count": 9,
   "id": "1cf09abf",
   "metadata": {},
   "outputs": [
    {
     "data": {
      "text/html": [
       "<div>\n",
       "<style scoped>\n",
       "    .dataframe tbody tr th:only-of-type {\n",
       "        vertical-align: middle;\n",
       "    }\n",
       "\n",
       "    .dataframe tbody tr th {\n",
       "        vertical-align: top;\n",
       "    }\n",
       "\n",
       "    .dataframe thead th {\n",
       "        text-align: right;\n",
       "    }\n",
       "</style>\n",
       "<table border=\"1\" class=\"dataframe\">\n",
       "  <thead>\n",
       "    <tr style=\"text-align: right;\">\n",
       "      <th></th>\n",
       "      <th>emotion</th>\n",
       "      <th>Usage</th>\n",
       "      <th>Pixels</th>\n",
       "    </tr>\n",
       "  </thead>\n",
       "  <tbody>\n",
       "    <tr>\n",
       "      <th>0</th>\n",
       "      <td>0</td>\n",
       "      <td>Training</td>\n",
       "      <td>[70, 80, 82, 72, 58, 58, 60, 63, 54, 58, 60, 4...</td>\n",
       "    </tr>\n",
       "    <tr>\n",
       "      <th>1</th>\n",
       "      <td>0</td>\n",
       "      <td>Training</td>\n",
       "      <td>[151, 150, 147, 155, 148, 133, 111, 140, 170, ...</td>\n",
       "    </tr>\n",
       "    <tr>\n",
       "      <th>2</th>\n",
       "      <td>2</td>\n",
       "      <td>Training</td>\n",
       "      <td>[231, 212, 156, 164, 174, 138, 161, 173, 182, ...</td>\n",
       "    </tr>\n",
       "    <tr>\n",
       "      <th>3</th>\n",
       "      <td>4</td>\n",
       "      <td>Training</td>\n",
       "      <td>[24, 32, 36, 30, 32, 23, 19, 20, 30, 41, 21, 2...</td>\n",
       "    </tr>\n",
       "    <tr>\n",
       "      <th>4</th>\n",
       "      <td>6</td>\n",
       "      <td>Training</td>\n",
       "      <td>[4, 0, 0, 0, 0, 0, 0, 0, 0, 0, 0, 0, 3, 15, 23...</td>\n",
       "    </tr>\n",
       "    <tr>\n",
       "      <th>5</th>\n",
       "      <td>2</td>\n",
       "      <td>Training</td>\n",
       "      <td>[55, 55, 55, 55, 55, 54, 60, 68, 54, 85, 151, ...</td>\n",
       "    </tr>\n",
       "    <tr>\n",
       "      <th>6</th>\n",
       "      <td>4</td>\n",
       "      <td>Training</td>\n",
       "      <td>[20, 17, 19, 21, 25, 38, 42, 42, 46, 54, 56, 6...</td>\n",
       "    </tr>\n",
       "  </tbody>\n",
       "</table>\n",
       "</div>"
      ],
      "text/plain": [
       "   emotion     Usage                                             Pixels\n",
       "0        0  Training  [70, 80, 82, 72, 58, 58, 60, 63, 54, 58, 60, 4...\n",
       "1        0  Training  [151, 150, 147, 155, 148, 133, 111, 140, 170, ...\n",
       "2        2  Training  [231, 212, 156, 164, 174, 138, 161, 173, 182, ...\n",
       "3        4  Training  [24, 32, 36, 30, 32, 23, 19, 20, 30, 41, 21, 2...\n",
       "4        6  Training  [4, 0, 0, 0, 0, 0, 0, 0, 0, 0, 0, 0, 3, 15, 23...\n",
       "5        2  Training  [55, 55, 55, 55, 55, 54, 60, 68, 54, 85, 151, ...\n",
       "6        4  Training  [20, 17, 19, 21, 25, 38, 42, 42, 46, 54, 56, 6..."
      ]
     },
     "execution_count": 9,
     "metadata": {},
     "output_type": "execute_result"
    }
   ],
   "source": [
    "data.head(7)"
   ]
  },
  {
   "cell_type": "code",
   "execution_count": 10,
   "id": "070d8608",
   "metadata": {},
   "outputs": [
    {
     "data": {
      "text/plain": [
       "Training       28709\n",
       "PrivateTest     3589\n",
       "PublicTest      3589\n",
       "Name: Usage, dtype: int64"
      ]
     },
     "execution_count": 10,
     "metadata": {},
     "output_type": "execute_result"
    }
   ],
   "source": [
    "data['Usage'].value_counts()"
   ]
  },
  {
   "cell_type": "code",
   "execution_count": 11,
   "id": "44f464d5",
   "metadata": {},
   "outputs": [],
   "source": [
    "train_dataset = data[data['Usage'] == 'Training'].drop(columns=['Usage'])\n",
    "val_dataset = data[data['Usage'] == 'PublicTest'].drop(columns=['Usage'])\n",
    "test_dataset = data[data['Usage'] == 'PrivateTest'].drop(columns=['Usage'])"
   ]
  },
  {
   "cell_type": "code",
   "execution_count": 12,
   "id": "91b8ea8e",
   "metadata": {},
   "outputs": [
    {
     "name": "stdout",
     "output_type": "stream",
     "text": [
      "Total mean value of all pixels in training : 129.47433955331468\n",
      "Total std value of all pixels in training : 65.02727348443116\n"
     ]
    }
   ],
   "source": [
    "pixel_columns = train_dataset['Pixels']\n",
    "\n",
    "all_pixels = [pixel for sublist in pixel_columns for pixel in sublist]\n",
    "\n",
    "total_mean_tr = np.mean(all_pixels)\n",
    "total_std_tr = np.std(all_pixels)\n",
    "print(\"Total mean value of all pixels in training :\", total_mean_tr)\n",
    "print(\"Total std value of all pixels in training :\", total_std_tr)"
   ]
  },
  {
   "cell_type": "code",
   "execution_count": 13,
   "id": "18828da7",
   "metadata": {},
   "outputs": [
    {
     "name": "stdout",
     "output_type": "stream",
     "text": [
      "Total mean value of all pixels in Validation: 128.98103217586143\n",
      "Total std value of all pixels in training : 65.0060051006662\n"
     ]
    }
   ],
   "source": [
    "pixel_columns = val_dataset['Pixels']\n",
    "\n",
    "all_pixels = [pixel for sublist in pixel_columns for pixel in sublist]\n",
    "\n",
    "total_mean_val = np.mean(all_pixels)\n",
    "total_std_val = np.std(all_pixels)\n",
    "print(\"Total mean value of all pixels in Validation:\", total_mean_val)\n",
    "print(\"Total std value of all pixels in training :\", total_std_val)"
   ]
  },
  {
   "cell_type": "code",
   "execution_count": 14,
   "id": "d6668b67",
   "metadata": {},
   "outputs": [
    {
     "name": "stdout",
     "output_type": "stream",
     "text": [
      "Total mean value of all pixels in test: 129.08289168678988\n",
      "Total std value of all pixels in training : 65.35151723799241\n"
     ]
    }
   ],
   "source": [
    "pixel_columns = test_dataset['Pixels']\n",
    "\n",
    "all_pixels = [pixel for sublist in pixel_columns for pixel in sublist]\n",
    "\n",
    "total_mean_test = np.mean(all_pixels)\n",
    "total_std_test = np.std(all_pixels)\n",
    "print(\"Total mean value of all pixels in test:\", total_mean_test)\n",
    "print(\"Total std value of all pixels in training :\", total_std_test)"
   ]
  },
  {
   "cell_type": "code",
   "execution_count": 15,
   "id": "fa9dcf03",
   "metadata": {},
   "outputs": [],
   "source": [
    "train_dataset['Pixels'] = (train_dataset['Pixels'] - total_mean_tr) / total_std_tr"
   ]
  },
  {
   "cell_type": "code",
   "execution_count": 16,
   "id": "639d3ee5",
   "metadata": {},
   "outputs": [],
   "source": [
    "val_dataset['Pixels'] = (val_dataset['Pixels'] - total_mean_val) / total_std_val"
   ]
  },
  {
   "cell_type": "code",
   "execution_count": 17,
   "id": "2d6b4f20",
   "metadata": {},
   "outputs": [],
   "source": [
    "test_dataset['Pixels'] = (test_dataset['Pixels'] - total_mean_test) / total_std_test"
   ]
  },
  {
   "cell_type": "code",
   "execution_count": 18,
   "id": "29bb0f29",
   "metadata": {},
   "outputs": [
    {
     "data": {
      "text/html": [
       "<div>\n",
       "<style scoped>\n",
       "    .dataframe tbody tr th:only-of-type {\n",
       "        vertical-align: middle;\n",
       "    }\n",
       "\n",
       "    .dataframe tbody tr th {\n",
       "        vertical-align: top;\n",
       "    }\n",
       "\n",
       "    .dataframe thead th {\n",
       "        text-align: right;\n",
       "    }\n",
       "</style>\n",
       "<table border=\"1\" class=\"dataframe\">\n",
       "  <thead>\n",
       "    <tr style=\"text-align: right;\">\n",
       "      <th></th>\n",
       "      <th>emotion</th>\n",
       "      <th>Pixels</th>\n",
       "    </tr>\n",
       "  </thead>\n",
       "  <tbody>\n",
       "    <tr>\n",
       "      <th>0</th>\n",
       "      <td>0</td>\n",
       "      <td>[-0.9146060778260068, -0.760824449531316, -0.7...</td>\n",
       "    </tr>\n",
       "    <tr>\n",
       "      <th>1</th>\n",
       "      <td>0</td>\n",
       "      <td>[0.3310251113609891, 0.31564694853152003, 0.26...</td>\n",
       "    </tr>\n",
       "    <tr>\n",
       "      <th>2</th>\n",
       "      <td>2</td>\n",
       "      <td>[1.561278137718516, 1.2690930439586035, 0.4079...</td>\n",
       "    </tr>\n",
       "    <tr>\n",
       "      <th>3</th>\n",
       "      <td>4</td>\n",
       "      <td>[-1.6220015679815847, -1.498976265345832, -1.4...</td>\n",
       "    </tr>\n",
       "    <tr>\n",
       "      <th>4</th>\n",
       "      <td>6</td>\n",
       "      <td>[-1.9295648245709665, -1.9910774758888428, -1....</td>\n",
       "    </tr>\n",
       "    <tr>\n",
       "      <th>...</th>\n",
       "      <td>...</td>\n",
       "      <td>...</td>\n",
       "    </tr>\n",
       "    <tr>\n",
       "      <th>28704</th>\n",
       "      <td>2</td>\n",
       "      <td>[-0.6993117982134396, -0.6839336353839706, -0....</td>\n",
       "    </tr>\n",
       "    <tr>\n",
       "      <th>28705</th>\n",
       "      <td>0</td>\n",
       "      <td>[-0.23796691332936704, -0.2687232389883052, -0...</td>\n",
       "    </tr>\n",
       "    <tr>\n",
       "      <th>28706</th>\n",
       "      <td>4</td>\n",
       "      <td>[-0.8530934265081305, -0.7454462867018469, -0....</td>\n",
       "    </tr>\n",
       "    <tr>\n",
       "      <th>28707</th>\n",
       "      <td>0</td>\n",
       "      <td>[1.4228746722532943, 1.4997654864006398, 1.130...</td>\n",
       "    </tr>\n",
       "    <tr>\n",
       "      <th>28708</th>\n",
       "      <td>4</td>\n",
       "      <td>[1.0076642758576289, 1.0691769271755052, 1.161...</td>\n",
       "    </tr>\n",
       "  </tbody>\n",
       "</table>\n",
       "<p>28709 rows × 2 columns</p>\n",
       "</div>"
      ],
      "text/plain": [
       "       emotion                                             Pixels\n",
       "0            0  [-0.9146060778260068, -0.760824449531316, -0.7...\n",
       "1            0  [0.3310251113609891, 0.31564694853152003, 0.26...\n",
       "2            2  [1.561278137718516, 1.2690930439586035, 0.4079...\n",
       "3            4  [-1.6220015679815847, -1.498976265345832, -1.4...\n",
       "4            6  [-1.9295648245709665, -1.9910774758888428, -1....\n",
       "...        ...                                                ...\n",
       "28704        2  [-0.6993117982134396, -0.6839336353839706, -0....\n",
       "28705        0  [-0.23796691332936704, -0.2687232389883052, -0...\n",
       "28706        4  [-0.8530934265081305, -0.7454462867018469, -0....\n",
       "28707        0  [1.4228746722532943, 1.4997654864006398, 1.130...\n",
       "28708        4  [1.0076642758576289, 1.0691769271755052, 1.161...\n",
       "\n",
       "[28709 rows x 2 columns]"
      ]
     },
     "execution_count": 18,
     "metadata": {},
     "output_type": "execute_result"
    }
   ],
   "source": [
    "train_dataset"
   ]
  },
  {
   "cell_type": "code",
   "execution_count": 19,
   "id": "9984672a",
   "metadata": {},
   "outputs": [
    {
     "data": {
      "text/html": [
       "<div>\n",
       "<style scoped>\n",
       "    .dataframe tbody tr th:only-of-type {\n",
       "        vertical-align: middle;\n",
       "    }\n",
       "\n",
       "    .dataframe tbody tr th {\n",
       "        vertical-align: top;\n",
       "    }\n",
       "\n",
       "    .dataframe thead th {\n",
       "        text-align: right;\n",
       "    }\n",
       "</style>\n",
       "<table border=\"1\" class=\"dataframe\">\n",
       "  <thead>\n",
       "    <tr style=\"text-align: right;\">\n",
       "      <th></th>\n",
       "      <th>emotion</th>\n",
       "      <th>Pixels</th>\n",
       "    </tr>\n",
       "  </thead>\n",
       "  <tbody>\n",
       "    <tr>\n",
       "      <th>28709</th>\n",
       "      <td>0</td>\n",
       "      <td>[1.9231910595111672, 1.9231910595111672, 1.923...</td>\n",
       "    </tr>\n",
       "    <tr>\n",
       "      <th>28710</th>\n",
       "      <td>1</td>\n",
       "      <td>[0.41563802886053175, 0.8463674661892847, 1.06...</td>\n",
       "    </tr>\n",
       "    <tr>\n",
       "      <th>28711</th>\n",
       "      <td>4</td>\n",
       "      <td>[-0.9226998656966651, -0.16892335037134734, -1...</td>\n",
       "    </tr>\n",
       "    <tr>\n",
       "      <th>28712</th>\n",
       "      <td>6</td>\n",
       "      <td>[1.1694145441858494, 1.1386481558052242, 1.646...</td>\n",
       "    </tr>\n",
       "    <tr>\n",
       "      <th>28713</th>\n",
       "      <td>3</td>\n",
       "      <td>[-0.6458023702710382, -0.768867923793539, -0.8...</td>\n",
       "    </tr>\n",
       "    <tr>\n",
       "      <th>...</th>\n",
       "      <td>...</td>\n",
       "      <td>...</td>\n",
       "    </tr>\n",
       "    <tr>\n",
       "      <th>32293</th>\n",
       "      <td>4</td>\n",
       "      <td>[0.7540683010474091, 0.7233019126667839, 0.661...</td>\n",
       "    </tr>\n",
       "    <tr>\n",
       "      <th>32294</th>\n",
       "      <td>3</td>\n",
       "      <td>[-1.5995604100704197, -1.4611116623576064, -1....</td>\n",
       "    </tr>\n",
       "    <tr>\n",
       "      <th>32295</th>\n",
       "      <td>4</td>\n",
       "      <td>[1.9385742537014798, 1.9385742537014798, 1.938...</td>\n",
       "    </tr>\n",
       "    <tr>\n",
       "      <th>32296</th>\n",
       "      <td>4</td>\n",
       "      <td>[-1.476494856547919, -1.5995604100704197, -1.5...</td>\n",
       "    </tr>\n",
       "    <tr>\n",
       "      <th>32297</th>\n",
       "      <td>4</td>\n",
       "      <td>[-1.0457654192191659, -1.0149990308385408, -1....</td>\n",
       "    </tr>\n",
       "  </tbody>\n",
       "</table>\n",
       "<p>3589 rows × 2 columns</p>\n",
       "</div>"
      ],
      "text/plain": [
       "       emotion                                             Pixels\n",
       "28709        0  [1.9231910595111672, 1.9231910595111672, 1.923...\n",
       "28710        1  [0.41563802886053175, 0.8463674661892847, 1.06...\n",
       "28711        4  [-0.9226998656966651, -0.16892335037134734, -1...\n",
       "28712        6  [1.1694145441858494, 1.1386481558052242, 1.646...\n",
       "28713        3  [-0.6458023702710382, -0.768867923793539, -0.8...\n",
       "...        ...                                                ...\n",
       "32293        4  [0.7540683010474091, 0.7233019126667839, 0.661...\n",
       "32294        3  [-1.5995604100704197, -1.4611116623576064, -1....\n",
       "32295        4  [1.9385742537014798, 1.9385742537014798, 1.938...\n",
       "32296        4  [-1.476494856547919, -1.5995604100704197, -1.5...\n",
       "32297        4  [-1.0457654192191659, -1.0149990308385408, -1....\n",
       "\n",
       "[3589 rows x 2 columns]"
      ]
     },
     "execution_count": 19,
     "metadata": {},
     "output_type": "execute_result"
    }
   ],
   "source": [
    "val_dataset"
   ]
  },
  {
   "cell_type": "code",
   "execution_count": 20,
   "id": "cc356b2e",
   "metadata": {},
   "outputs": [
    {
     "data": {
      "text/html": [
       "<div>\n",
       "<style scoped>\n",
       "    .dataframe tbody tr th:only-of-type {\n",
       "        vertical-align: middle;\n",
       "    }\n",
       "\n",
       "    .dataframe tbody tr th {\n",
       "        vertical-align: top;\n",
       "    }\n",
       "\n",
       "    .dataframe thead th {\n",
       "        text-align: right;\n",
       "    }\n",
       "</style>\n",
       "<table border=\"1\" class=\"dataframe\">\n",
       "  <thead>\n",
       "    <tr style=\"text-align: right;\">\n",
       "      <th></th>\n",
       "      <th>emotion</th>\n",
       "      <th>Pixels</th>\n",
       "    </tr>\n",
       "  </thead>\n",
       "  <tbody>\n",
       "    <tr>\n",
       "      <th>32298</th>\n",
       "      <td>0</td>\n",
       "      <td>[0.6261080085440276, -0.1695888964050981, -0.4...</td>\n",
       "    </tr>\n",
       "    <tr>\n",
       "      <th>32299</th>\n",
       "      <td>5</td>\n",
       "      <td>[-1.8680957512003473, -1.8986994783137752, -1....</td>\n",
       "    </tr>\n",
       "    <tr>\n",
       "      <th>32300</th>\n",
       "      <td>6</td>\n",
       "      <td>[1.5748235490602929, 1.6972384575140047, 1.712...</td>\n",
       "    </tr>\n",
       "    <tr>\n",
       "      <th>32301</th>\n",
       "      <td>4</td>\n",
       "      <td>[1.0851639152454464, 1.0392583245753044, 0.304...</td>\n",
       "    </tr>\n",
       "    <tr>\n",
       "      <th>32302</th>\n",
       "      <td>2</td>\n",
       "      <td>[-1.3631342538287867, -1.5467566165093543, -1....</td>\n",
       "    </tr>\n",
       "    <tr>\n",
       "      <th>...</th>\n",
       "      <td>...</td>\n",
       "      <td>...</td>\n",
       "    </tr>\n",
       "    <tr>\n",
       "      <th>35882</th>\n",
       "      <td>6</td>\n",
       "      <td>[-1.2101156182616473, -1.4243417080556426, -1....</td>\n",
       "    </tr>\n",
       "    <tr>\n",
       "      <th>35883</th>\n",
       "      <td>3</td>\n",
       "      <td>[0.7485229169977393, 0.6873154627708835, 0.656...</td>\n",
       "    </tr>\n",
       "    <tr>\n",
       "      <th>35884</th>\n",
       "      <td>0</td>\n",
       "      <td>[-1.7150771156332076, -1.7150771156332076, -1....</td>\n",
       "    </tr>\n",
       "    <tr>\n",
       "      <th>35885</th>\n",
       "      <td>3</td>\n",
       "      <td>[-1.5161528893959262, -1.5467566165093543, -1....</td>\n",
       "    </tr>\n",
       "    <tr>\n",
       "      <th>35886</th>\n",
       "      <td>2</td>\n",
       "      <td>[-1.6844733885197798, -1.7762845698600636, -1....</td>\n",
       "    </tr>\n",
       "  </tbody>\n",
       "</table>\n",
       "<p>3589 rows × 2 columns</p>\n",
       "</div>"
      ],
      "text/plain": [
       "       emotion                                             Pixels\n",
       "32298        0  [0.6261080085440276, -0.1695888964050981, -0.4...\n",
       "32299        5  [-1.8680957512003473, -1.8986994783137752, -1....\n",
       "32300        6  [1.5748235490602929, 1.6972384575140047, 1.712...\n",
       "32301        4  [1.0851639152454464, 1.0392583245753044, 0.304...\n",
       "32302        2  [-1.3631342538287867, -1.5467566165093543, -1....\n",
       "...        ...                                                ...\n",
       "35882        6  [-1.2101156182616473, -1.4243417080556426, -1....\n",
       "35883        3  [0.7485229169977393, 0.6873154627708835, 0.656...\n",
       "35884        0  [-1.7150771156332076, -1.7150771156332076, -1....\n",
       "35885        3  [-1.5161528893959262, -1.5467566165093543, -1....\n",
       "35886        2  [-1.6844733885197798, -1.7762845698600636, -1....\n",
       "\n",
       "[3589 rows x 2 columns]"
      ]
     },
     "execution_count": 20,
     "metadata": {},
     "output_type": "execute_result"
    }
   ],
   "source": [
    "test_dataset"
   ]
  },
  {
   "cell_type": "code",
   "execution_count": 21,
   "id": "9da29529",
   "metadata": {},
   "outputs": [],
   "source": [
    "Y_train = train_dataset['emotion'].values\n",
    "Y_val = val_dataset['emotion'].values\n",
    "Y_test = test_dataset['emotion'].values"
   ]
  },
  {
   "cell_type": "code",
   "execution_count": 22,
   "id": "82906ddd",
   "metadata": {},
   "outputs": [],
   "source": [
    "X_train = train_dataset['Pixels'].values\n",
    "X_val = val_dataset['Pixels'].values\n",
    "X_test = test_dataset['Pixels'].values"
   ]
  },
  {
   "cell_type": "code",
   "execution_count": 23,
   "id": "0609dfca",
   "metadata": {},
   "outputs": [],
   "source": [
    "X_train = np.stack(X_train).astype(np.float32)\n",
    "X_train = torch.from_numpy(X_train)"
   ]
  },
  {
   "cell_type": "code",
   "execution_count": 24,
   "id": "934d945f",
   "metadata": {},
   "outputs": [],
   "source": [
    "X_val = np.stack(X_val).astype(np.float32)\n",
    "X_val = torch.from_numpy(X_val)"
   ]
  },
  {
   "cell_type": "code",
   "execution_count": 25,
   "id": "4f57a5e5",
   "metadata": {},
   "outputs": [],
   "source": [
    "X_test = np.stack(X_test).astype(np.float32)\n",
    "X_test = torch.from_numpy(X_test)"
   ]
  },
  {
   "cell_type": "code",
   "execution_count": 26,
   "id": "3c0ab907",
   "metadata": {},
   "outputs": [
    {
     "data": {
      "text/plain": [
       "(torch.Size([28709, 2304]),\n",
       " (28709,),\n",
       " torch.Size([3589, 2304]),\n",
       " (3589,),\n",
       " torch.Size([3589, 2304]),\n",
       " (3589,))"
      ]
     },
     "execution_count": 26,
     "metadata": {},
     "output_type": "execute_result"
    }
   ],
   "source": [
    "X_train.shape, Y_train.shape, X_test.shape, Y_test.shape,  X_val.shape, Y_val.shape"
   ]
  },
  {
   "cell_type": "code",
   "execution_count": 27,
   "id": "288d1dd2",
   "metadata": {},
   "outputs": [],
   "source": [
    "X_train = X_train.view(28709, 48, 48, 1)\n",
    "X_val = X_val.view(3589, 48, 48, 1)\n",
    "X_test = X_test.view(3589, 48, 48, 1)"
   ]
  },
  {
   "cell_type": "code",
   "execution_count": 28,
   "id": "f60a2328",
   "metadata": {},
   "outputs": [],
   "source": [
    "X_train = X_train.squeeze(-1)\n",
    "X_train = X_train.unsqueeze(1).repeat(1, 3, 1, 1)\n",
    "\n",
    "X_val = X_val.squeeze(-1)\n",
    "X_val = X_val.unsqueeze(1).repeat(1, 3, 1, 1)\n",
    "\n",
    "X_test = X_test.squeeze(-1)\n",
    "X_test = X_test.unsqueeze(1).repeat(1, 3, 1, 1)"
   ]
  },
  {
   "cell_type": "code",
   "execution_count": 29,
   "id": "cc1d0bf4",
   "metadata": {},
   "outputs": [],
   "source": [
    "Y_train = torch.from_numpy(Y_train)\n",
    "Y_val = torch.from_numpy(Y_val)\n",
    "Y_test = torch.from_numpy(Y_test)\n",
    "Y_train = Y_train.view(-1)\n",
    "Y_test = Y_test.view(-1)\n",
    "Y_val = Y_val.view(-1)"
   ]
  },
  {
   "cell_type": "code",
   "execution_count": 30,
   "id": "aa58efec",
   "metadata": {},
   "outputs": [
    {
     "data": {
      "text/plain": [
       "device(type='cuda')"
      ]
     },
     "execution_count": 30,
     "metadata": {},
     "output_type": "execute_result"
    }
   ],
   "source": [
    "device = torch.device('cuda' if torch.cuda.is_available() else 'cpu')\n",
    "device"
   ]
  },
  {
   "cell_type": "code",
   "execution_count": 31,
   "id": "f4ed12ec",
   "metadata": {},
   "outputs": [
    {
     "data": {
      "text/plain": [
       "=================================================================\n",
       "Layer (type:depth-idx)                   Param #\n",
       "=================================================================\n",
       "BaseModel                                --\n",
       "├─Sequential: 1-1                        --\n",
       "│    └─Conv2d: 2-1                       1,792\n",
       "│    └─ReLU: 2-2                         --\n",
       "│    └─MaxPool2d: 2-3                    --\n",
       "│    └─Conv2d: 2-4                       73,856\n",
       "│    └─ReLU: 2-5                         --\n",
       "│    └─MaxPool2d: 2-6                    --\n",
       "│    └─Conv2d: 2-7                       295,168\n",
       "│    └─ReLU: 2-8                         --\n",
       "│    └─Conv2d: 2-9                       590,080\n",
       "│    └─ReLU: 2-10                        --\n",
       "│    └─MaxPool2d: 2-11                   --\n",
       "│    └─Conv2d: 2-12                      1,180,160\n",
       "│    └─ReLU: 2-13                        --\n",
       "│    └─Conv2d: 2-14                      2,359,808\n",
       "│    └─ReLU: 2-15                        --\n",
       "│    └─MaxPool2d: 2-16                   --\n",
       "├─Sequential: 1-2                        --\n",
       "│    └─Linear: 2-17                      18,878,464\n",
       "│    └─ReLU: 2-18                        --\n",
       "│    └─Dropout: 2-19                     --\n",
       "│    └─Linear: 2-20                      16,781,312\n",
       "│    └─ReLU: 2-21                        --\n",
       "│    └─Dropout: 2-22                     --\n",
       "│    └─Linear: 2-23                      28,679\n",
       "=================================================================\n",
       "Total params: 40,189,319\n",
       "Trainable params: 40,189,319\n",
       "Non-trainable params: 0\n",
       "================================================================="
      ]
     },
     "execution_count": 31,
     "metadata": {},
     "output_type": "execute_result"
    }
   ],
   "source": [
    "import torch\n",
    "import torch.nn as nn\n",
    "\n",
    "class BaseModel(nn.Module):\n",
    "    def __init__(self, num_classes = 7):\n",
    "        super(BaseModel, self).__init__()\n",
    "\n",
    "        self.features = nn.Sequential(\n",
    "            nn.Conv2d(3, 64, kernel_size=3, padding=1),\n",
    "            nn.ReLU(inplace=True),\n",
    "            nn.MaxPool2d(kernel_size=2, stride=2),\n",
    "\n",
    "            nn.Conv2d(64, 128, kernel_size=3, padding=1),\n",
    "            nn.ReLU(inplace=True),\n",
    "            nn.MaxPool2d(kernel_size=2, stride=2),\n",
    "\n",
    "            nn.Conv2d(128, 256, kernel_size=3, padding=1),\n",
    "            nn.ReLU(inplace=True),\n",
    "            nn.Conv2d(256, 256, kernel_size=3, padding=1),\n",
    "            nn.ReLU(inplace=True),\n",
    "            nn.MaxPool2d(kernel_size=2, stride=2),\n",
    "\n",
    "            nn.Conv2d(256, 512, kernel_size=3, padding=1),\n",
    "            nn.ReLU(inplace=True),\n",
    "            nn.Conv2d(512, 512, kernel_size=3, padding=1),\n",
    "            nn.ReLU(inplace=True),\n",
    "            nn.MaxPool2d(kernel_size=2, stride=2)\n",
    "        )\n",
    "\n",
    "        self.classifier = nn.Sequential(\n",
    "            nn.Linear(512 * 3 * 3, 4096), \n",
    "            nn.ReLU(inplace=True),\n",
    "            nn.Dropout(),\n",
    "            nn.Linear(4096, 4096),\n",
    "            nn.ReLU(inplace=True),\n",
    "            nn.Dropout(),\n",
    "            nn.Linear(4096, num_classes)\n",
    "        )\n",
    "\n",
    "    def forward(self, x):\n",
    "        x = self.features(x)\n",
    "        x = torch.flatten(x, start_dim=1)\n",
    "        x = self.classifier(x)\n",
    "        return x\n",
    "\n",
    "model = BaseModel(num_classes = 7).to(device)\n",
    "summary(model)"
   ]
  },
  {
   "cell_type": "code",
   "execution_count": 32,
   "id": "1e08242f",
   "metadata": {},
   "outputs": [
    {
     "name": "stdout",
     "output_type": "stream",
     "text": [
      "Epoch No.1 -> Training loss: 1.6668992042541504\n",
      "Epoch No.1 -> Training Accuracy: 0.3214902506963789\n",
      "Epoch No.1 - Validation loss: 1.4084694385528564\n",
      "Epoch No.1 - Validation Accuracy: 0.44711111111111107\n",
      "Epoch No.2 -> Training loss: 1.3116836547851562\n",
      "Epoch No.2 -> Training Accuracy: 0.4903690807799443\n",
      "Epoch No.2 - Validation loss: 1.236215353012085\n",
      "Epoch No.2 - Validation Accuracy: 0.5211666666666667\n",
      "Epoch No.3 -> Training loss: 1.1328351497650146\n",
      "Epoch No.3 -> Training Accuracy: 0.5668732590529248\n",
      "Epoch No.3 - Validation loss: 1.1821753978729248\n",
      "Epoch No.3 - Validation Accuracy: 0.5537222222222222\n",
      "Epoch No.4 -> Training loss: 0.9611403346061707\n",
      "Epoch No.4 -> Training Accuracy: 0.6361629526462395\n",
      "Epoch No.4 - Validation loss: 1.2234876155853271\n",
      "Epoch No.4 - Validation Accuracy: 0.5628333333333333\n",
      "Epoch No.5 -> Training loss: 0.7743236422538757\n",
      "Epoch No.5 -> Training Accuracy: 0.7138927576601671\n",
      "Epoch No.5 - Validation loss: 1.3469465970993042\n",
      "Epoch No.5 - Validation Accuracy: 0.5629444444444445\n",
      "Epoch No.6 -> Training loss: 0.5763261318206787\n",
      "Epoch No.6 -> Training Accuracy: 0.7893105849582173\n",
      "Epoch No.6 - Validation loss: 1.591532588005066\n",
      "Epoch No.6 - Validation Accuracy: 0.5653333333333334\n",
      "Epoch No.7 -> Training loss: 0.40870046615600586\n",
      "Epoch No.7 -> Training Accuracy: 0.8539345403899722\n",
      "Epoch No.7 - Validation loss: 1.820048213005066\n",
      "Epoch No.7 - Validation Accuracy: 0.5503333333333333\n",
      "Epoch No.8 -> Training loss: 0.2921617329120636\n",
      "Epoch No.8 -> Training Accuracy: 0.8951601671309192\n",
      "Epoch No.8 - Validation loss: 1.8395215272903442\n",
      "Epoch No.8 - Validation Accuracy: 0.5734444444444444\n",
      "Epoch No.9 -> Training loss: 0.23922650516033173\n",
      "Epoch No.9 -> Training Accuracy: 0.9158774373259053\n",
      "Epoch No.9 - Validation loss: 1.9674009084701538\n",
      "Epoch No.9 - Validation Accuracy: 0.5592222222222223\n",
      "Epoch No.10 -> Training loss: 0.1887543946504593\n",
      "Epoch No.10 -> Training Accuracy: 0.9371169916434541\n",
      "Epoch No.10 - Validation loss: 2.017367362976074\n",
      "Epoch No.10 - Validation Accuracy: 0.5650555555555555\n",
      "Execution time: 791.0320 seconds\n"
     ]
    }
   ],
   "source": [
    "import time\n",
    "s = time.time()\n",
    "\n",
    "torch.manual_seed(18)\n",
    "np.random.seed(18)\n",
    "\n",
    "criterion = nn.CrossEntropyLoss()\n",
    "optimizer = torch.optim.Adam(model.parameters(), lr=0.0001)\n",
    "\n",
    "epochs = 10\n",
    "\n",
    "bs = 16\n",
    "loss_val_array , loss_train , accuracy_train_array , accuracy_val_array = [], [], [], []\n",
    "\n",
    "for epoch in range(epochs):\n",
    "    model.train()\n",
    "    loss_sum_train = 0\n",
    "    c = 0\n",
    "    acc = 0\n",
    "    for j in range(0, len(X_train), bs):\n",
    "        c += 1\n",
    "        X_traini = X_train[j:j+bs].to(device)\n",
    "        Y_traini = Y_train[j:j+bs].to(device)\n",
    "        y_pred = model(X_traini)\n",
    "        loss = criterion(y_pred, Y_traini)\n",
    "        loss_sum_train += loss\n",
    "        optimizer.zero_grad()\n",
    "        loss.backward()\n",
    "        optimizer.step()\n",
    "\n",
    "        _, predicted = torch.max(y_pred.data, 1)\n",
    "        accuracy = (predicted == Y_traini).sum().item() / len(Y_traini)\n",
    "        acc += accuracy\n",
    "\n",
    "    accuracy_train_array.append(acc/c)\n",
    "\n",
    "    loss_avg = loss_sum_train / c\n",
    "    loss_train.append(loss_avg.item())\n",
    "\n",
    "    print(f\"Epoch No.{epoch + 1} -> Training loss: {loss_avg}\")\n",
    "    print(f\"Epoch No.{epoch + 1} -> Training Accuracy: {acc/c}\")\n",
    "\n",
    "    model.eval()\n",
    "\n",
    "    with torch.no_grad():\n",
    "        loss_val_sum = 0\n",
    "        C = 0\n",
    "        acc = 0\n",
    "        for k in range(0, len(X_val), bs):\n",
    "            C += 1\n",
    "            X_vali = X_val[k:k+bs].to(device)\n",
    "            Y_vali = Y_val[k:k+bs].to(device)\n",
    "            y_pred_val = model(X_vali)\n",
    "            loss_val = criterion(y_pred_val, Y_vali)\n",
    "            loss_val_sum += loss_val\n",
    "            _, predicted_val = torch.max(y_pred_val.data, 1)\n",
    "            accuracy_val = (predicted_val == Y_vali).sum().item() / len(Y_vali)\n",
    "            acc += accuracy_val\n",
    "\n",
    "        accuracy_val_array.append(acc / C)\n",
    "        loss_val_avg = loss_val_sum / C\n",
    "        loss_val_array.append(loss_val_avg.item())\n",
    "\n",
    "    print(f\"Epoch No.{epoch + 1} - Validation loss: {loss_val_avg}\")\n",
    "    print(f\"Epoch No.{epoch + 1} - Validation Accuracy: {acc/C}\")\n",
    "\n",
    "e = time.time()\n",
    "\n",
    "seconds = e - s\n",
    "\n",
    "print(f\"Execution time: {seconds:.4f} seconds\")"
   ]
  },
  {
   "cell_type": "code",
   "execution_count": 33,
   "id": "77648751",
   "metadata": {},
   "outputs": [
    {
     "name": "stderr",
     "output_type": "stream",
     "text": [
      "<ipython-input-33-a811de81534e>:3: UserWarning: To copy construct from a tensor, it is recommended to use sourceTensor.clone().detach() or sourceTensor.clone().detach().requires_grad_(True), rather than torch.tensor(sourceTensor).\n",
      "  X_test = torch.tensor(X_test, dtype=torch.float32).to(device)\n",
      "<ipython-input-33-a811de81534e>:4: UserWarning: To copy construct from a tensor, it is recommended to use sourceTensor.clone().detach() or sourceTensor.clone().detach().requires_grad_(True), rather than torch.tensor(sourceTensor).\n",
      "  Y_test = torch.tensor(Y_test, dtype=torch.long).to(device)\n"
     ]
    },
    {
     "name": "stdout",
     "output_type": "stream",
     "text": [
      "Accuracy: 56.56%\n"
     ]
    }
   ],
   "source": [
    "with torch.no_grad():\n",
    "    model.eval()\n",
    "    X_test = torch.tensor(X_test, dtype=torch.float32).to(device)\n",
    "    Y_test = torch.tensor(Y_test, dtype=torch.long).to(device)\n",
    "    loss_test_sum = 0\n",
    "    acc_test = 0\n",
    "    y_pred = []\n",
    "    y_true = []\n",
    "\n",
    "    for i in range(len(X_test)):\n",
    "        X_test_i = X_test[i:i+1]\n",
    "        Y_test_i = Y_test[i:i+1]\n",
    "\n",
    "        y_pred_test = model(X_test_i)\n",
    "        y_pred.append(torch.argmax(y_pred_test, dim=1).item())\n",
    "        y_true.append(Y_test_i.item())\n",
    "\n",
    "        loss_test = criterion(y_pred_test, Y_test_i)\n",
    "        loss_test_sum += loss_test\n",
    "\n",
    "        _, predicted_test = torch.max(y_pred_test.data, 1)\n",
    "        accuracy_test = (predicted_test == Y_test_i).sum().item() / len(Y_test_i)\n",
    "        acc_test += accuracy_test\n",
    "\n",
    "    accuracy_test_result = acc_test / len(X_test)\n",
    "    print(f\"Accuracy: {accuracy_test_result * 100:.2f}%\")\n",
    "\n",
    "    loss = loss_test_sum/(len(X_test))\n",
    "\n",
    "y_true = np.array(y_true)\n",
    "y_pred = np.array(y_pred)\n"
   ]
  },
  {
   "cell_type": "code",
   "execution_count": 34,
   "id": "7289e18f",
   "metadata": {},
   "outputs": [
    {
     "data": {
      "image/png": "[encoded data removed]",
      "text/plain": [
       "<Figure size 1440x720 with 2 Axes>"
      ]
     },
     "metadata": {
      "needs_background": "light"
     },
     "output_type": "display_data"
    }
   ],
   "source": [
    "plt.figure(figsize=(20, 10))\n",
    "\n",
    "plt.subplot(1, 2, 1)\n",
    "plt.plot([i for i in range(1,epochs+1)], loss_train, label=\"Training Loss\")\n",
    "plt.plot([i for i in range(1,epochs+1)], loss_val_array, label=\"Validation Loss\")\n",
    "plt.legend()\n",
    "plt.xlabel(\"Epoch\")\n",
    "plt.ylabel(\"Loss\")\n",
    "\n",
    "plt.subplot(1, 2, 2)\n",
    "plt.plot([i for i in range(1,epochs+1)], accuracy_train_array, label = \"Training Accuracy\")\n",
    "plt.plot([i for i in range(1,epochs+1)], accuracy_val_array, label = \"Validation Accuracy\")\n",
    "plt.legend()\n",
    "plt.xlabel(\"Epoch\")\n",
    "plt.ylabel(\"Accuracy\")\n",
    "\n",
    "plt.show()"
   ]
  },
  {
   "cell_type": "code",
   "execution_count": 35,
   "id": "0a3ae8d5",
   "metadata": {},
   "outputs": [
    {
     "name": "stdout",
     "output_type": "stream",
     "text": [
      "Class 1 - True Positive Rate: 0.61, False Positive Rate: 0.15\n",
      "Class 1 - Precision: 0.39, Recall: 0.61\n",
      "\n",
      "Class 2 - True Positive Rate: 0.51, False Positive Rate: 0.01\n",
      "Class 2 - Precision: 0.55, Recall: 0.51\n",
      "\n",
      "Class 3 - True Positive Rate: 0.38, False Positive Rate: 0.07\n",
      "Class 3 - Precision: 0.47, Recall: 0.38\n",
      "\n",
      "Class 4 - True Positive Rate: 0.78, False Positive Rate: 0.07\n",
      "Class 4 - Precision: 0.79, Recall: 0.78\n",
      "\n",
      "Class 5 - True Positive Rate: 0.44, False Positive Rate: 0.11\n",
      "Class 5 - Precision: 0.43, Recall: 0.44\n",
      "\n",
      "Class 6 - True Positive Rate: 0.66, False Positive Rate: 0.03\n",
      "Class 6 - Precision: 0.77, Recall: 0.66\n",
      "\n",
      "Class 7 - True Positive Rate: 0.44, False Positive Rate: 0.08\n",
      "Class 7 - Precision: 0.54, Recall: 0.44\n",
      "\n"
     ]
    }
   ],
   "source": [
    "con_mat = confusion_matrix(y_true, y_pred)\n",
    "\n",
    "number_of_classes = con_mat.shape[0]\n",
    "\n",
    "for i in range(number_of_classes):\n",
    "\n",
    "    tp = con_mat[i, i]\n",
    "    fn = np.sum(con_mat[i, :]) - tp\n",
    "    fp = np.sum(con_mat[:, i]) - tp\n",
    "    tn = np.sum(con_mat) - (tp + fn + fp)\n",
    "\n",
    "    precision = tp / (tp + fp) if tp + fp != 0 else 0\n",
    "    recall = tp / (tp + fn) if tp + fn != 0 else 0\n",
    "\n",
    "    tpr = tp / (tp + fn) if tp + fn != 0 else 0\n",
    "    fpr = fp / (fp + tn) if fp + tn != 0 else 0\n",
    "\n",
    "    print(f\"Class {i + 1} - True Positive Rate: {tpr:.2f}, False Positive Rate: {fpr:.2f}\")\n",
    "    print(f\"Class {i + 1} - Precision: {precision:.2f}, Recall: {recall:.2f}\")\n",
    "    print()"
   ]
  },
  {
   "cell_type": "code",
   "execution_count": 36,
   "id": "c1d675d2",
   "metadata": {},
   "outputs": [
    {
     "data": {
      "image/png": "[encoded data removed]",
      "text/plain": [
       "<Figure size 432x288 with 2 Axes>"
      ]
     },
     "metadata": {
      "needs_background": "light"
     },
     "output_type": "display_data"
    },
    {
     "data": {
      "text/plain": [
       "<Figure size 1440x720 with 0 Axes>"
      ]
     },
     "metadata": {},
     "output_type": "display_data"
    }
   ],
   "source": [
    "sns.heatmap(con_mat, annot = True, cmap = 'cividis', cbar = True)\n",
    "\n",
    "plt.xlabel('Predicted')\n",
    "plt.ylabel('True')\n",
    "plt.figure(figsize=(20,10))\n",
    "plt.show()"
   ]
  },
  {
   "cell_type": "code",
   "execution_count": 37,
   "id": "8cbd31a7",
   "metadata": {},
   "outputs": [
    {
     "name": "stdout",
     "output_type": "stream",
     "text": [
      "Precision: 0.5800385034035689\n",
      "Recall: 0.5656171635553079\n",
      "F1: 0.5675131020863855\n"
     ]
    }
   ],
   "source": [
    "precision = precision_score(y_true, y_pred, average='weighted')\n",
    "recall = recall_score(y_true, y_pred, average='weighted')\n",
    "f1 = f1_score(y_true, y_pred, average='weighted')\n",
    "print(f\"Precision: {precision}\")\n",
    "print(f\"Recall: {recall}\")\n",
    "print(f\"F1: {f1}\")"
   ]
  },
  {
   "cell_type": "code",
   "execution_count": 38,
   "id": "2abe7788",
   "metadata": {},
   "outputs": [],
   "source": [
    "weights_val = model.state_dict()\n",
    "torch.save(weights_val, \"model.pth\")"
   ]
  },
  {
   "cell_type": "code",
   "execution_count": 39,
   "id": "1c929016",
   "metadata": {},
   "outputs": [
    {
     "data": {
      "text/plain": [
       "760925696"
      ]
     },
     "execution_count": 39,
     "metadata": {},
     "output_type": "execute_result"
    }
   ],
   "source": [
    "torch.cuda.memory_allocated()"
   ]
  },
  {
   "cell_type": "code",
   "execution_count": 40,
   "id": "50731a62",
   "metadata": {},
   "outputs": [
    {
     "data": {
      "text/plain": [
       "16542"
      ]
     },
     "execution_count": 40,
     "metadata": {},
     "output_type": "execute_result"
    }
   ],
   "source": [
    "import gc\n",
    "torch.cuda.empty_cache()\n",
    "gc.collect()"
   ]
  },
  {
   "cell_type": "code",
   "execution_count": 41,
   "id": "71e55149",
   "metadata": {},
   "outputs": [
    {
     "data": {
      "text/plain": [
       "760925696"
      ]
     },
     "execution_count": 41,
     "metadata": {},
     "output_type": "execute_result"
    }
   ],
   "source": [
    "torch.cuda.memory_allocated()"
   ]
  },
  {
   "cell_type": "code",
   "execution_count": 42,
   "id": "33dd52d7",
   "metadata": {},
   "outputs": [
    {
     "name": "stdout",
     "output_type": "stream",
     "text": [
      "Epoch No.1 -> Training loss: 1.3222023248672485\n",
      "Epoch No.1 -> Training Accuracy: 0.5001880222841225\n",
      "Epoch No.1 - Validation loss: 1.2822377681732178\n",
      "Epoch No.1 - Validation Accuracy: 0.5082222222222222\n",
      "Epoch No.2 -> Training loss: 1.2818634510040283\n",
      "Epoch No.2 -> Training Accuracy: 0.5145194986072423\n",
      "Epoch No.2 - Validation loss: 1.2668856382369995\n",
      "Epoch No.2 - Validation Accuracy: 0.5098333333333334\n",
      "Epoch No.3 -> Training loss: 1.231161117553711\n",
      "Epoch No.3 -> Training Accuracy: 0.5345194986072423\n",
      "Epoch No.3 - Validation loss: 1.2909756898880005\n",
      "Epoch No.3 - Validation Accuracy: 0.5142777777777778\n",
      "Epoch No.4 -> Training loss: 1.1849639415740967\n",
      "Epoch No.4 -> Training Accuracy: 0.5539206128133705\n",
      "Epoch No.4 - Validation loss: 1.218193769454956\n",
      "Epoch No.4 - Validation Accuracy: 0.5376666666666666\n",
      "Epoch No.5 -> Training loss: 1.15395188331604\n",
      "Epoch No.5 -> Training Accuracy: 0.567075208913649\n",
      "Epoch No.5 - Validation loss: 1.2375959157943726\n",
      "Epoch No.5 - Validation Accuracy: 0.5465\n",
      "Epoch No.6 -> Training loss: 1.1216235160827637\n",
      "Epoch No.6 -> Training Accuracy: 0.5814623955431755\n",
      "Epoch No.6 - Validation loss: 1.3385319709777832\n",
      "Epoch No.6 - Validation Accuracy: 0.5304444444444444\n",
      "Epoch No.7 -> Training loss: 1.097575306892395\n",
      "Epoch No.7 -> Training Accuracy: 0.5945125348189415\n",
      "Epoch No.7 - Validation loss: 1.2287243604660034\n",
      "Epoch No.7 - Validation Accuracy: 0.5431666666666667\n",
      "Epoch No.8 -> Training loss: 1.0677226781845093\n",
      "Epoch No.8 -> Training Accuracy: 0.6028412256267409\n",
      "Epoch No.8 - Validation loss: 1.201003074645996\n",
      "Epoch No.8 - Validation Accuracy: 0.5635\n",
      "Epoch No.9 -> Training loss: 1.0462180376052856\n",
      "Epoch No.9 -> Training Accuracy: 0.6150208913649026\n",
      "Epoch No.9 - Validation loss: 1.2133891582489014\n",
      "Epoch No.9 - Validation Accuracy: 0.5581666666666667\n",
      "Epoch No.10 -> Training loss: 1.0260279178619385\n",
      "Epoch No.10 -> Training Accuracy: 0.6213370473537604\n",
      "Epoch No.10 - Validation loss: 1.198826551437378\n",
      "Epoch No.10 - Validation Accuracy: 0.5611666666666667\n",
      "Execution time: 835.1440 seconds\n"
     ]
    }
   ],
   "source": [
    "import time\n",
    "s = time.time()\n",
    "\n",
    "torch.manual_seed(18)\n",
    "np.random.seed(18)\n",
    "\n",
    "criterion = nn.CrossEntropyLoss()\n",
    "optimizer = torch.optim.Adam(model.parameters(), lr = 0.001, weight_decay = 0.001)\n",
    "\n",
    "epochs = 10\n",
    "\n",
    "bs = 16\n",
    "loss_val_array , loss_train , accuracy_train_array , accuracy_val_array = [], [], [], []\n",
    "\n",
    "for epoch in range(epochs):\n",
    "    model.train()\n",
    "    loss_sum_train = 0\n",
    "    c = 0\n",
    "    acc = 0\n",
    "    for j in range(0, len(X_train), bs):\n",
    "        c += 1\n",
    "        X_traini = X_train[j:j+bs].to(device)\n",
    "        Y_traini = Y_train[j:j+bs].to(device)\n",
    "        y_pred = model(X_traini)\n",
    "        loss = criterion(y_pred, Y_traini)\n",
    "        loss_sum_train += loss\n",
    "        optimizer.zero_grad()\n",
    "        loss.backward()\n",
    "        optimizer.step()\n",
    "\n",
    "        _, predicted = torch.max(y_pred.data, 1)\n",
    "        accuracy = (predicted == Y_traini).sum().item() / len(Y_traini)\n",
    "        acc += accuracy\n",
    "\n",
    "    accuracy_train_array.append(acc/c)\n",
    "\n",
    "    loss_avg = loss_sum_train / c\n",
    "    loss_train.append(loss_avg.item())\n",
    "\n",
    "    print(f\"Epoch No.{epoch + 1} -> Training loss: {loss_avg}\")\n",
    "    print(f\"Epoch No.{epoch + 1} -> Training Accuracy: {acc/c}\")\n",
    "\n",
    "    model.eval()\n",
    "\n",
    "    with torch.no_grad():\n",
    "        loss_val_sum = 0\n",
    "        C = 0\n",
    "        acc = 0\n",
    "        for k in range(0, len(X_val), bs):\n",
    "            C += 1\n",
    "            X_vali = X_val[k:k+bs].to(device)\n",
    "            Y_vali = Y_val[k:k+bs].to(device)\n",
    "            y_pred_val = model(X_vali)\n",
    "            loss_val = criterion(y_pred_val, Y_vali)\n",
    "            loss_val_sum += loss_val\n",
    "            _, predicted_val = torch.max(y_pred_val.data, 1)\n",
    "            accuracy_val = (predicted_val == Y_vali).sum().item() / len(Y_vali)\n",
    "            acc += accuracy_val\n",
    "\n",
    "        accuracy_val_array.append(acc / C)\n",
    "        loss_val_avg = loss_val_sum / C\n",
    "        loss_val_array.append(loss_val_avg.item())\n",
    "\n",
    "    print(f\"Epoch No.{epoch + 1} - Validation loss: {loss_val_avg}\")\n",
    "    print(f\"Epoch No.{epoch + 1} - Validation Accuracy: {acc/C}\")\n",
    "\n",
    "e = time.time()\n",
    "\n",
    "seconds = e - s\n",
    "\n",
    "print(f\"Execution time: {seconds:.4f} seconds\")"
   ]
  },
  {
   "cell_type": "code",
   "execution_count": 43,
   "id": "d27205b3",
   "metadata": {},
   "outputs": [
    {
     "name": "stderr",
     "output_type": "stream",
     "text": [
      "<ipython-input-43-a811de81534e>:3: UserWarning: To copy construct from a tensor, it is recommended to use sourceTensor.clone().detach() or sourceTensor.clone().detach().requires_grad_(True), rather than torch.tensor(sourceTensor).\n",
      "  X_test = torch.tensor(X_test, dtype=torch.float32).to(device)\n",
      "<ipython-input-43-a811de81534e>:4: UserWarning: To copy construct from a tensor, it is recommended to use sourceTensor.clone().detach() or sourceTensor.clone().detach().requires_grad_(True), rather than torch.tensor(sourceTensor).\n",
      "  Y_test = torch.tensor(Y_test, dtype=torch.long).to(device)\n"
     ]
    },
    {
     "name": "stdout",
     "output_type": "stream",
     "text": [
      "Accuracy: 56.51%\n"
     ]
    }
   ],
   "source": [
    "with torch.no_grad():\n",
    "    model.eval()\n",
    "    X_test = torch.tensor(X_test, dtype=torch.float32).to(device)\n",
    "    Y_test = torch.tensor(Y_test, dtype=torch.long).to(device)\n",
    "    loss_test_sum = 0\n",
    "    acc_test = 0\n",
    "    y_pred = []\n",
    "    y_true = []\n",
    "\n",
    "    for i in range(len(X_test)):\n",
    "        X_test_i = X_test[i:i+1]\n",
    "        Y_test_i = Y_test[i:i+1]\n",
    "\n",
    "        y_pred_test = model(X_test_i)\n",
    "        y_pred.append(torch.argmax(y_pred_test, dim=1).item())\n",
    "        y_true.append(Y_test_i.item())\n",
    "\n",
    "        loss_test = criterion(y_pred_test, Y_test_i)\n",
    "        loss_test_sum += loss_test\n",
    "\n",
    "        _, predicted_test = torch.max(y_pred_test.data, 1)\n",
    "        accuracy_test = (predicted_test == Y_test_i).sum().item() / len(Y_test_i)\n",
    "        acc_test += accuracy_test\n",
    "\n",
    "    accuracy_test_result = acc_test / len(X_test)\n",
    "    print(f\"Accuracy: {accuracy_test_result * 100:.2f}%\")\n",
    "\n",
    "    loss = loss_test_sum/(len(X_test))\n",
    "\n",
    "y_true = np.array(y_true)\n",
    "y_pred = np.array(y_pred)\n"
   ]
  },
  {
   "cell_type": "code",
   "execution_count": 44,
   "id": "1a31a30d",
   "metadata": {},
   "outputs": [],
   "source": [
    "weights_val_op = model.state_dict()\n",
    "torch.save(weights_val_op, \"model_op.pth\")"
   ]
  },
  {
   "cell_type": "code",
   "execution_count": 45,
   "id": "0f4ad2dd",
   "metadata": {},
   "outputs": [
    {
     "data": {
      "image/png": "[encoded data removed]",
      "text/plain": [
       "<Figure size 1440x720 with 2 Axes>"
      ]
     },
     "metadata": {
      "needs_background": "light"
     },
     "output_type": "display_data"
    }
   ],
   "source": [
    "plt.figure(figsize=(20, 10))\n",
    "\n",
    "plt.subplot(1, 2, 1)\n",
    "plt.plot([i for i in range(1,epochs+1)], loss_train, label=\"Training Loss\")\n",
    "plt.plot([i for i in range(1,epochs+1)], loss_val_array, label=\"Validation Loss\")\n",
    "plt.legend()\n",
    "plt.xlabel(\"Epoch\")\n",
    "plt.ylabel(\"Loss\")\n",
    "\n",
    "plt.subplot(1, 2, 2)\n",
    "plt.plot([i for i in range(1,epochs+1)], accuracy_train_array, label = \"Training Accuracy\")\n",
    "plt.plot([i for i in range(1,epochs+1)], accuracy_val_array, label = \"Validation Accuracy\")\n",
    "plt.legend()\n",
    "plt.xlabel(\"Epoch\")\n",
    "plt.ylabel(\"Accuracy\")\n",
    "\n",
    "plt.show()"
   ]
  },
  {
   "cell_type": "code",
   "execution_count": 46,
   "id": "6d72ed6a",
   "metadata": {},
   "outputs": [
    {
     "name": "stdout",
     "output_type": "stream",
     "text": [
      "Class 1 - True Positive Rate: 0.55, False Positive Rate: 0.11\n",
      "Class 1 - Precision: 0.44, Recall: 0.55\n",
      "\n",
      "Class 2 - True Positive Rate: 0.00, False Positive Rate: 0.00\n",
      "Class 2 - Precision: 0.00, Recall: 0.00\n",
      "\n",
      "Class 3 - True Positive Rate: 0.26, False Positive Rate: 0.07\n",
      "Class 3 - Precision: 0.39, Recall: 0.26\n",
      "\n",
      "Class 4 - True Positive Rate: 0.86, False Positive Rate: 0.10\n",
      "Class 4 - Precision: 0.74, Recall: 0.86\n",
      "\n",
      "Class 5 - True Positive Rate: 0.49, False Positive Rate: 0.14\n",
      "Class 5 - Precision: 0.40, Recall: 0.49\n",
      "\n",
      "Class 6 - True Positive Rate: 0.63, False Positive Rate: 0.03\n",
      "Class 6 - Precision: 0.75, Recall: 0.63\n",
      "\n",
      "Class 7 - True Positive Rate: 0.51, False Positive Rate: 0.08\n",
      "Class 7 - Precision: 0.58, Recall: 0.51\n",
      "\n"
     ]
    }
   ],
   "source": [
    "con_mat = confusion_matrix(y_true, y_pred)\n",
    "\n",
    "number_of_classes = con_mat.shape[0]\n",
    "\n",
    "for i in range(number_of_classes):\n",
    "\n",
    "    tp = con_mat[i, i]\n",
    "    fn = np.sum(con_mat[i, :]) - tp\n",
    "    fp = np.sum(con_mat[:, i]) - tp\n",
    "    tn = np.sum(con_mat) - (tp + fn + fp)\n",
    "\n",
    "    precision = tp / (tp + fp) if tp + fp != 0 else 0\n",
    "    recall = tp / (tp + fn) if tp + fn != 0 else 0\n",
    "\n",
    "    tpr = tp / (tp + fn) if tp + fn != 0 else 0\n",
    "    fpr = fp / (fp + tn) if fp + tn != 0 else 0\n",
    "\n",
    "    print(f\"Class {i + 1} - True Positive Rate: {tpr:.2f}, False Positive Rate: {fpr:.2f}\")\n",
    "    print(f\"Class {i + 1} - Precision: {precision:.2f}, Recall: {recall:.2f}\")\n",
    "    print()"
   ]
  },
  {
   "cell_type": "code",
   "execution_count": 47,
   "id": "76ac24b2",
   "metadata": {},
   "outputs": [
    {
     "data": {
      "image/png": "[encoded data removed]",
      "text/plain": [
       "<Figure size 432x288 with 2 Axes>"
      ]
     },
     "metadata": {
      "needs_background": "light"
     },
     "output_type": "display_data"
    },
    {
     "data": {
      "text/plain": [
       "<Figure size 1440x720 with 0 Axes>"
      ]
     },
     "metadata": {},
     "output_type": "display_data"
    }
   ],
   "source": [
    "sns.heatmap(con_mat, annot = True, cmap = 'cividis', cbar = True)\n",
    "\n",
    "plt.xlabel('Predicted')\n",
    "plt.ylabel('True')\n",
    "plt.figure(figsize=(20,10))\n",
    "plt.show()"
   ]
  },
  {
   "cell_type": "code",
   "execution_count": 48,
   "id": "5f7033b3",
   "metadata": {},
   "outputs": [
    {
     "name": "stdout",
     "output_type": "stream",
     "text": [
      "Precision: 0.5544317087455066\n",
      "Recall: 0.5650599052660908\n",
      "F1: 0.5542045585389876\n"
     ]
    },
    {
     "name": "stderr",
     "output_type": "stream",
     "text": [
      "C:\\Users\\nages\\anaconda3\\lib\\site-packages\\sklearn\\metrics\\_classification.py:1245: UndefinedMetricWarning: Precision is ill-defined and being set to 0.0 in labels with no predicted samples. Use `zero_division` parameter to control this behavior.\n",
      "  _warn_prf(average, modifier, msg_start, len(result))\n"
     ]
    }
   ],
   "source": [
    "precision = precision_score(y_true, y_pred, average='weighted')\n",
    "recall = recall_score(y_true, y_pred, average='weighted')\n",
    "f1 = f1_score(y_true, y_pred, average='weighted')\n",
    "print(f\"Precision: {precision}\")\n",
    "print(f\"Recall: {recall}\")\n",
    "print(f\"F1: {f1}\")"
   ]
  },
  {
   "cell_type": "code",
   "execution_count": null,
   "id": "3dbd439a",
   "metadata": {},
   "outputs": [],
   "source": []
  },
  {
   "cell_type": "code",
   "execution_count": 49,
   "id": "94545ba5",
   "metadata": {},
   "outputs": [
    {
     "data": {
      "text/plain": [
       "=================================================================\n",
       "Layer (type:depth-idx)                   Param #\n",
       "=================================================================\n",
       "VGG13                                    --\n",
       "├─Sequential: 1-1                        --\n",
       "│    └─Conv2d: 2-1                       1,792\n",
       "│    └─ReLU: 2-2                         --\n",
       "│    └─Conv2d: 2-3                       36,928\n",
       "│    └─ReLU: 2-4                         --\n",
       "│    └─MaxPool2d: 2-5                    --\n",
       "│    └─Conv2d: 2-6                       73,856\n",
       "│    └─ReLU: 2-7                         --\n",
       "│    └─Conv2d: 2-8                       147,584\n",
       "│    └─ReLU: 2-9                         --\n",
       "│    └─MaxPool2d: 2-10                   --\n",
       "│    └─Conv2d: 2-11                      295,168\n",
       "│    └─ReLU: 2-12                        --\n",
       "│    └─Conv2d: 2-13                      590,080\n",
       "│    └─ReLU: 2-14                        --\n",
       "│    └─MaxPool2d: 2-15                   --\n",
       "│    └─Conv2d: 2-16                      1,180,160\n",
       "│    └─ReLU: 2-17                        --\n",
       "│    └─Conv2d: 2-18                      2,359,808\n",
       "│    └─ReLU: 2-19                        --\n",
       "│    └─MaxPool2d: 2-20                   --\n",
       "│    └─Conv2d: 2-21                      2,359,808\n",
       "│    └─ReLU: 2-22                        --\n",
       "│    └─Conv2d: 2-23                      2,359,808\n",
       "│    └─ReLU: 2-24                        --\n",
       "│    └─MaxPool2d: 2-25                   --\n",
       "├─Sequential: 1-2                        --\n",
       "│    └─Linear: 2-26                      2,101,248\n",
       "│    └─ReLU: 2-27                        --\n",
       "│    └─Linear: 2-28                      16,781,312\n",
       "│    └─ReLU: 2-29                        --\n",
       "│    └─Linear: 2-30                      28,679\n",
       "=================================================================\n",
       "Total params: 28,316,231\n",
       "Trainable params: 28,316,231\n",
       "Non-trainable params: 0\n",
       "================================================================="
      ]
     },
     "execution_count": 49,
     "metadata": {},
     "output_type": "execute_result"
    }
   ],
   "source": [
    "import torch\n",
    "import torch.nn as nn\n",
    "\n",
    "class VGG13(nn.Module):\n",
    "    def __init__(self, num_classes=7, input_size=(64,64)):\n",
    "        super(VGG13, self).__init__()\n",
    "        self.features = nn.Sequential(\n",
    "            nn.Conv2d(3, 64, kernel_size=3, padding=1),\n",
    "            nn.ReLU(inplace=True),\n",
    "            nn.Conv2d(64, 64, kernel_size=3, padding=1),\n",
    "            nn.ReLU(inplace=True),\n",
    "            nn.MaxPool2d(kernel_size=2, stride=2),\n",
    "\n",
    "            nn.Conv2d(64, 128, kernel_size=3, padding=1),\n",
    "            nn.ReLU(inplace=True),\n",
    "            nn.Conv2d(128, 128, kernel_size=3, padding=1),\n",
    "            nn.ReLU(inplace=True),\n",
    "            nn.MaxPool2d(kernel_size=2, stride=2),\n",
    "\n",
    "            nn.Conv2d(128, 256, kernel_size=3, padding=1),\n",
    "            nn.ReLU(inplace=True),\n",
    "            nn.Conv2d(256, 256, kernel_size=3, padding=1),\n",
    "            nn.ReLU(inplace=True),\n",
    "            nn.MaxPool2d(kernel_size=2, stride=2),\n",
    "\n",
    "            nn.Conv2d(256, 512, kernel_size=3, padding=1),\n",
    "            nn.ReLU(inplace=True),\n",
    "            nn.Conv2d(512, 512, kernel_size=3, padding=1),\n",
    "            nn.ReLU(inplace=True),\n",
    "            nn.MaxPool2d(kernel_size=2, stride=2),\n",
    "\n",
    "            nn.Conv2d(512, 512, kernel_size=3, padding=1),\n",
    "            nn.ReLU(inplace=True),\n",
    "            nn.Conv2d(512, 512, kernel_size=3, padding=1),\n",
    "            nn.ReLU(inplace=True),\n",
    "            nn.MaxPool2d(kernel_size=2, stride=2),\n",
    "        )\n",
    "        self.classifier = nn.Sequential(\n",
    "            nn.Linear(512, 4096),\n",
    "            nn.ReLU(inplace=True),\n",
    "            nn.Linear(4096, 4096),\n",
    "            nn.ReLU(inplace=True),\n",
    "            nn.Linear(4096, num_classes),\n",
    "        )\n",
    "\n",
    "    def forward(self, x):\n",
    "        x = self.features(x)\n",
    "        x = x.view(x.size(0), -1)\n",
    "        x = self.classifier(x)\n",
    "        return x\n",
    "\n",
    "model_vgg1 = VGG13().to(device)\n",
    "summary(model_vgg1)"
   ]
  },
  {
   "cell_type": "code",
   "execution_count": 50,
   "id": "a4f49e35",
   "metadata": {},
   "outputs": [
    {
     "name": "stdout",
     "output_type": "stream",
     "text": [
      "Epoch No.1 -> Training loss: 1.8142158443881276\n",
      "Epoch No.1 -> Training Accuracy: 0.25\n",
      "Epoch No.1 - Validation loss: 1.8178261624442207\n",
      "Epoch No.1 - Validation Accuracy: 0.24922222222222223\n",
      "Epoch No.2 -> Training loss: 1.7998744888890088\n",
      "Epoch No.2 -> Training Accuracy: 0.2524025069637883\n",
      "Epoch No.2 - Validation loss: 1.7683002954059177\n",
      "Epoch No.2 - Validation Accuracy: 0.2783888888888889\n",
      "Epoch No.3 -> Training loss: 1.6060333507638789\n",
      "Epoch No.3 -> Training Accuracy: 0.34578690807799445\n",
      "Epoch No.3 - Validation loss: 1.4205843742688498\n",
      "Epoch No.3 - Validation Accuracy: 0.4256111111111111\n",
      "Epoch No.4 -> Training loss: 1.3381145980364766\n",
      "Epoch No.4 -> Training Accuracy: 0.46066155988857943\n",
      "Epoch No.4 - Validation loss: 1.2802401396963332\n",
      "Epoch No.4 - Validation Accuracy: 0.49127777777777776\n",
      "Epoch No.5 -> Training loss: 1.1814463708892173\n",
      "Epoch No.5 -> Training Accuracy: 0.5390807799442897\n",
      "Epoch No.5 - Validation loss: 1.2154240430725944\n",
      "Epoch No.5 - Validation Accuracy: 0.5263333333333333\n",
      "Epoch No.6 -> Training loss: 1.0678604829278164\n",
      "Epoch No.6 -> Training Accuracy: 0.5862674094707521\n",
      "Epoch No.6 - Validation loss: 1.200279422601064\n",
      "Epoch No.6 - Validation Accuracy: 0.5423333333333333\n",
      "Epoch No.7 -> Training loss: 0.9507431780395401\n",
      "Epoch No.7 -> Training Accuracy: 0.6392966573816156\n",
      "Epoch No.7 - Validation loss: 1.252398235930337\n",
      "Epoch No.7 - Validation Accuracy: 0.5456666666666667\n",
      "Epoch No.8 -> Training loss: 0.8334489785031024\n",
      "Epoch No.8 -> Training Accuracy: 0.6899303621169917\n",
      "Epoch No.8 - Validation loss: 1.330900264845954\n",
      "Epoch No.8 - Validation Accuracy: 0.5437777777777778\n",
      "Epoch No.9 -> Training loss: 0.7207557397217471\n",
      "Epoch No.9 -> Training Accuracy: 0.7375974930362117\n",
      "Epoch No.9 - Validation loss: 1.4351206335756514\n",
      "Epoch No.9 - Validation Accuracy: 0.5418333333333333\n",
      "Epoch No.10 -> Training loss: 0.6095962989587638\n",
      "Epoch No.10 -> Training Accuracy: 0.7818175487465181\n",
      "Epoch No.10 - Validation loss: 1.542967423995336\n",
      "Epoch No.10 - Validation Accuracy: 0.5503888888888889\n",
      "Execution time: 834.3176 seconds\n"
     ]
    }
   ],
   "source": [
    "import time\n",
    "\n",
    "s = time.time()\n",
    "\n",
    "torch.manual_seed(18)\n",
    "np.random.seed(18)\n",
    "\n",
    "criterion = nn.CrossEntropyLoss()\n",
    "optimizer = torch.optim.Adam(model_vgg1.parameters(), lr=0.0001)\n",
    "\n",
    "epochs = 10\n",
    "\n",
    "bs = 16\n",
    "loss_val_array, loss_train, accuracy_train_array, accuracy_val_array = [], [], [], []\n",
    "\n",
    "for epoch in range(epochs):\n",
    "    model_vgg1.train()\n",
    "    loss_sum_train = 0\n",
    "    c = 0\n",
    "    acc = 0\n",
    "    for j in range(0, len(X_train), bs):\n",
    "        c += 1\n",
    "        X_traini = X_train[j:j+bs].to(device)\n",
    "        Y_traini = Y_train[j:j+bs].to(device)\n",
    "        y_pred = model_vgg1(X_traini)\n",
    "        loss = criterion(y_pred, Y_traini)\n",
    "        loss_sum_train += loss.item()\n",
    "        optimizer.zero_grad()\n",
    "        loss.backward()\n",
    "        optimizer.step()\n",
    "\n",
    "        _, predicted = torch.max(y_pred.data, 1)\n",
    "        accuracy = (predicted == Y_traini).sum().item() / len(Y_traini)\n",
    "        acc += accuracy\n",
    "\n",
    "    accuracy_train_array.append(acc/c)\n",
    "\n",
    "    loss_avg = loss_sum_train / c\n",
    "    loss_train.append(loss_avg)\n",
    "\n",
    "    print(f\"Epoch No.{epoch + 1} -> Training loss: {loss_avg}\")\n",
    "    print(f\"Epoch No.{epoch + 1} -> Training Accuracy: {acc/c}\")\n",
    "\n",
    "    model_vgg1.eval()\n",
    "\n",
    "    with torch.no_grad():\n",
    "        loss_val_sum = 0\n",
    "        C = 0\n",
    "        acc = 0\n",
    "        for k in range(0, len(X_val), bs):\n",
    "            C += 1\n",
    "            X_vali = X_val[k:k+bs].to(device)\n",
    "            Y_vali = Y_val[k:k+bs].to(device)\n",
    "            y_pred_val = model_vgg1(X_vali)\n",
    "            loss_val = criterion(y_pred_val, Y_vali)\n",
    "            loss_val_sum += loss_val.item()\n",
    "            _, predicted_val = torch.max(y_pred_val.data, 1)\n",
    "            accuracy_val = (predicted_val == Y_vali).sum().item() / len(Y_vali)\n",
    "            acc += accuracy_val\n",
    "\n",
    "        accuracy_val_array.append(acc / C)\n",
    "        loss_val_avg = loss_val_sum / C\n",
    "        loss_val_array.append(loss_val_avg)\n",
    "\n",
    "    print(f\"Epoch No.{epoch + 1} - Validation loss: {loss_val_avg}\")\n",
    "    print(f\"Epoch No.{epoch + 1} - Validation Accuracy: {acc/C}\")\n",
    "\n",
    "\n",
    "e = time.time()\n",
    "\n",
    "seconds = e - s\n",
    "\n",
    "print(f\"Execution time: {seconds:.4f} seconds\")\n"
   ]
  },
  {
   "cell_type": "code",
   "execution_count": 51,
   "id": "04b91c9c",
   "metadata": {},
   "outputs": [
    {
     "name": "stderr",
     "output_type": "stream",
     "text": [
      "<ipython-input-51-edb5a79f102a>:3: UserWarning: To copy construct from a tensor, it is recommended to use sourceTensor.clone().detach() or sourceTensor.clone().detach().requires_grad_(True), rather than torch.tensor(sourceTensor).\n",
      "  X_test = torch.tensor(X_test, dtype=torch.float32).to(device)\n",
      "<ipython-input-51-edb5a79f102a>:4: UserWarning: To copy construct from a tensor, it is recommended to use sourceTensor.clone().detach() or sourceTensor.clone().detach().requires_grad_(True), rather than torch.tensor(sourceTensor).\n",
      "  Y_test = torch.tensor(Y_test, dtype=torch.long).to(device)\n"
     ]
    },
    {
     "name": "stdout",
     "output_type": "stream",
     "text": [
      "Accuracy: 56.98%\n"
     ]
    }
   ],
   "source": [
    "with torch.no_grad():\n",
    "    model_vgg1.eval()\n",
    "    X_test = torch.tensor(X_test, dtype=torch.float32).to(device)\n",
    "    Y_test = torch.tensor(Y_test, dtype=torch.long).to(device)\n",
    "    loss_test_sum = 0\n",
    "    acc_test = 0\n",
    "    y_pred = []\n",
    "    y_true = []\n",
    "\n",
    "    for i in range(len(X_test)):\n",
    "        X_test_i = X_test[i:i+1]\n",
    "        Y_test_i = Y_test[i:i+1]\n",
    "\n",
    "        y_pred_test = model_vgg1(X_test_i)\n",
    "        y_pred.append(torch.argmax(y_pred_test, dim=1).item())\n",
    "        y_true.append(Y_test_i.item())\n",
    "\n",
    "        loss_test = criterion(y_pred_test, Y_test_i)\n",
    "        loss_test_sum += loss_test\n",
    "\n",
    "        _, predicted_test = torch.max(y_pred_test.data, 1)\n",
    "        accuracy_test = (predicted_test == Y_test_i).sum().item() / len(Y_test_i)\n",
    "        acc_test += accuracy_test\n",
    "\n",
    "    accuracy_test_result = acc_test / len(X_test)\n",
    "    print(f\"Accuracy: {accuracy_test_result * 100:.2f}%\")\n",
    "\n",
    "    loss = loss_test_sum/(len(X_test))\n",
    "\n",
    "y_true = np.array(y_true)\n",
    "y_pred = np.array(y_pred)\n"
   ]
  },
  {
   "cell_type": "code",
   "execution_count": 54,
   "id": "f7fc4312",
   "metadata": {},
   "outputs": [],
   "source": [
    "weights_val_vgg1 = model_vgg1.state_dict()\n",
    "torch.save(weights_val_vgg1, \"model_vgg.pth\")"
   ]
  },
  {
   "cell_type": "code",
   "execution_count": 55,
   "id": "2108f0d2",
   "metadata": {},
   "outputs": [
    {
     "data": {
      "image/png": "[encoded data removed]",
      "text/plain": [
       "<Figure size 1440x720 with 2 Axes>"
      ]
     },
     "metadata": {
      "needs_background": "light"
     },
     "output_type": "display_data"
    }
   ],
   "source": [
    "plt.figure(figsize=(20, 10))\n",
    "\n",
    "plt.subplot(1, 2, 1)\n",
    "plt.plot([i for i in range(1,epochs+1)], loss_train, label=\"Training Loss\")\n",
    "plt.plot([i for i in range(1,epochs+1)], loss_val_array, label=\"Validation Loss\")\n",
    "plt.legend()\n",
    "plt.xlabel(\"Epoch\")\n",
    "plt.ylabel(\"Loss\")\n",
    "\n",
    "plt.subplot(1, 2, 2)\n",
    "plt.plot([i for i in range(1,epochs+1)], accuracy_train_array, label = \"Training Accuracy\")\n",
    "plt.plot([i for i in range(1,epochs+1)], accuracy_val_array, label = \"Validation Accuracy\")\n",
    "plt.legend()\n",
    "plt.xlabel(\"Epoch\")\n",
    "plt.ylabel(\"Accuracy\")\n",
    "\n",
    "plt.show()"
   ]
  },
  {
   "cell_type": "code",
   "execution_count": 56,
   "id": "d50a6da8",
   "metadata": {},
   "outputs": [
    {
     "name": "stdout",
     "output_type": "stream",
     "text": [
      "Class 1 - True Positive Rate: 0.55, False Positive Rate: 0.10\n",
      "Class 1 - Precision: 0.46, Recall: 0.55\n",
      "\n",
      "Class 2 - True Positive Rate: 0.13, False Positive Rate: 0.00\n",
      "Class 2 - Precision: 0.39, Recall: 0.13\n",
      "\n",
      "Class 3 - True Positive Rate: 0.38, False Positive Rate: 0.10\n",
      "Class 3 - Precision: 0.39, Recall: 0.38\n",
      "\n",
      "Class 4 - True Positive Rate: 0.82, False Positive Rate: 0.07\n",
      "Class 4 - Precision: 0.79, Recall: 0.82\n",
      "\n",
      "Class 5 - True Positive Rate: 0.30, False Positive Rate: 0.09\n",
      "Class 5 - Precision: 0.41, Recall: 0.30\n",
      "\n",
      "Class 6 - True Positive Rate: 0.69, False Positive Rate: 0.03\n",
      "Class 6 - Precision: 0.73, Recall: 0.69\n",
      "\n",
      "Class 7 - True Positive Rate: 0.61, False Positive Rate: 0.12\n",
      "Class 7 - Precision: 0.52, Recall: 0.61\n",
      "\n"
     ]
    }
   ],
   "source": [
    "con_mat = confusion_matrix(y_true, y_pred)\n",
    "\n",
    "number_of_classes = con_mat.shape[0]\n",
    "\n",
    "for i in range(number_of_classes):\n",
    "\n",
    "    tp = con_mat[i, i]\n",
    "    fn = np.sum(con_mat[i, :]) - tp\n",
    "    fp = np.sum(con_mat[:, i]) - tp\n",
    "    tn = np.sum(con_mat) - (tp + fn + fp)\n",
    "\n",
    "    precision = tp / (tp + fp) if tp + fp != 0 else 0\n",
    "    recall = tp / (tp + fn) if tp + fn != 0 else 0\n",
    "\n",
    "    tpr = tp / (tp + fn) if tp + fn != 0 else 0\n",
    "    fpr = fp / (fp + tn) if fp + tn != 0 else 0\n",
    "\n",
    "    print(f\"Class {i + 1} - True Positive Rate: {tpr:.2f}, False Positive Rate: {fpr:.2f}\")\n",
    "    print(f\"Class {i + 1} - Precision: {precision:.2f}, Recall: {recall:.2f}\")\n",
    "    print()"
   ]
  },
  {
   "cell_type": "code",
   "execution_count": 57,
   "id": "324e77e2",
   "metadata": {},
   "outputs": [
    {
     "data": {
      "image/png": "[encoded data removed]",
      "text/plain": [
       "<Figure size 432x288 with 2 Axes>"
      ]
     },
     "metadata": {
      "needs_background": "light"
     },
     "output_type": "display_data"
    },
    {
     "data": {
      "text/plain": [
       "<Figure size 1440x720 with 0 Axes>"
      ]
     },
     "metadata": {},
     "output_type": "display_data"
    }
   ],
   "source": [
    "sns.heatmap(con_mat, annot = True, cmap = 'cividis', cbar = True)\n",
    "\n",
    "plt.xlabel('Predicted')\n",
    "plt.ylabel('True')\n",
    "plt.figure(figsize=(20,10))\n",
    "plt.show()"
   ]
  },
  {
   "cell_type": "code",
   "execution_count": 58,
   "id": "3fd7591e",
   "metadata": {},
   "outputs": [
    {
     "name": "stdout",
     "output_type": "stream",
     "text": [
      "Precision: 0.5629141245626339\n",
      "Recall: 0.5697966007244358\n",
      "F1: 0.562880432493043\n"
     ]
    }
   ],
   "source": [
    "precision = precision_score(y_true, y_pred, average='weighted')\n",
    "recall = recall_score(y_true, y_pred, average='weighted')\n",
    "f1 = f1_score(y_true, y_pred, average='weighted')\n",
    "print(f\"Precision: {precision}\")\n",
    "print(f\"Recall: {recall}\")\n",
    "print(f\"F1: {f1}\")"
   ]
  },
  {
   "cell_type": "code",
   "execution_count": 59,
   "id": "65cc0196",
   "metadata": {},
   "outputs": [
    {
     "name": "stdout",
     "output_type": "stream",
     "text": [
      "Epoch No.1 -> Training loss: 1.4277291868390478\n",
      "Epoch No.1 -> Training Accuracy: 0.4433217270194986\n",
      "Epoch No.1 - Validation loss: 1.351151090198093\n",
      "Epoch No.1 - Validation Accuracy: 0.4692777777777778\n",
      "Epoch No.2 -> Training loss: 1.290169766586803\n",
      "Epoch No.2 -> Training Accuracy: 0.5036629526462396\n",
      "Epoch No.2 - Validation loss: 1.3038096075587802\n",
      "Epoch No.2 - Validation Accuracy: 0.49594444444444447\n",
      "Epoch No.3 -> Training loss: 1.2304025323942178\n",
      "Epoch No.3 -> Training Accuracy: 0.5267896935933147\n",
      "Epoch No.3 - Validation loss: 1.270498071246677\n",
      "Epoch No.3 - Validation Accuracy: 0.5169444444444444\n",
      "Epoch No.4 -> Training loss: 1.1883878310078697\n",
      "Epoch No.4 -> Training Accuracy: 0.5450696378830083\n",
      "Epoch No.4 - Validation loss: 1.214972398016188\n",
      "Epoch No.4 - Validation Accuracy: 0.5424444444444444\n",
      "Epoch No.5 -> Training loss: 1.149351498941193\n",
      "Epoch No.5 -> Training Accuracy: 0.560633704735376\n",
      "Epoch No.5 - Validation loss: 1.215498157342275\n",
      "Epoch No.5 - Validation Accuracy: 0.5374444444444444\n",
      "Epoch No.6 -> Training loss: 1.1176323249147464\n",
      "Epoch No.6 -> Training Accuracy: 0.5756754874651812\n",
      "Epoch No.6 - Validation loss: 1.2355019071367053\n",
      "Epoch No.6 - Validation Accuracy: 0.5405\n",
      "Epoch No.7 -> Training loss: 1.0881758675103732\n",
      "Epoch No.7 -> Training Accuracy: 0.5873467966573815\n",
      "Epoch No.7 - Validation loss: 1.2484677934646606\n",
      "Epoch No.7 - Validation Accuracy: 0.5359999999999999\n",
      "Epoch No.8 -> Training loss: 1.06975342843858\n",
      "Epoch No.8 -> Training Accuracy: 0.5966364902506964\n",
      "Epoch No.8 - Validation loss: 1.235401426156362\n",
      "Epoch No.8 - Validation Accuracy: 0.5443888888888889\n",
      "Epoch No.9 -> Training loss: 1.0470316971576978\n",
      "Epoch No.9 -> Training Accuracy: 0.6056615598885793\n",
      "Epoch No.9 - Validation loss: 1.2261549798647562\n",
      "Epoch No.9 - Validation Accuracy: 0.5455\n",
      "Epoch No.10 -> Training loss: 1.0248880423045093\n",
      "Epoch No.10 -> Training Accuracy: 0.6159679665738161\n",
      "Epoch No.10 - Validation loss: 1.2297004928853776\n",
      "Epoch No.10 - Validation Accuracy: 0.5448888888888889\n",
      "Execution time: 740.4063 seconds\n"
     ]
    }
   ],
   "source": [
    "import time\n",
    "\n",
    "s = time.time()\n",
    "\n",
    "torch.manual_seed(18)\n",
    "np.random.seed(18)\n",
    "\n",
    "criterion = nn.CrossEntropyLoss()\n",
    "optimizer = torch.optim.Adam(model_vgg1.parameters(), lr=0.001, weight_decay = 0.001)\n",
    "\n",
    "epochs = 10\n",
    "\n",
    "bs = 16\n",
    "loss_val_array, loss_train, accuracy_train_array, accuracy_val_array = [], [], [], []\n",
    "\n",
    "for epoch in range(epochs):\n",
    "    model_vgg1.train()\n",
    "    loss_sum_train = 0\n",
    "    c = 0\n",
    "    acc = 0\n",
    "    for j in range(0, len(X_train), bs):\n",
    "        c += 1\n",
    "        X_traini = X_train[j:j+bs].to(device)\n",
    "        Y_traini = Y_train[j:j+bs].to(device)\n",
    "        y_pred = model_vgg1(X_traini)\n",
    "        loss = criterion(y_pred, Y_traini)\n",
    "        loss_sum_train += loss.item()\n",
    "        optimizer.zero_grad()\n",
    "        loss.backward()\n",
    "        optimizer.step()\n",
    "\n",
    "        _, predicted = torch.max(y_pred.data, 1)\n",
    "        accuracy = (predicted == Y_traini).sum().item() / len(Y_traini)\n",
    "        acc += accuracy\n",
    "\n",
    "    accuracy_train_array.append(acc/c)\n",
    "\n",
    "    loss_avg = loss_sum_train / c\n",
    "    loss_train.append(loss_avg)\n",
    "\n",
    "    print(f\"Epoch No.{epoch + 1} -> Training loss: {loss_avg}\")\n",
    "    print(f\"Epoch No.{epoch + 1} -> Training Accuracy: {acc/c}\")\n",
    "\n",
    "    model_vgg1.eval()\n",
    "\n",
    "    with torch.no_grad():\n",
    "        loss_val_sum = 0\n",
    "        C = 0\n",
    "        acc = 0\n",
    "        for k in range(0, len(X_val), bs):\n",
    "            C += 1\n",
    "            X_vali = X_val[k:k+bs].to(device)\n",
    "            Y_vali = Y_val[k:k+bs].to(device)\n",
    "            y_pred_val = model_vgg1(X_vali)\n",
    "            loss_val = criterion(y_pred_val, Y_vali)\n",
    "            loss_val_sum += loss_val.item()\n",
    "            _, predicted_val = torch.max(y_pred_val.data, 1)\n",
    "            accuracy_val = (predicted_val == Y_vali).sum().item() / len(Y_vali)\n",
    "            acc += accuracy_val\n",
    "\n",
    "        accuracy_val_array.append(acc / C)\n",
    "        loss_val_avg = loss_val_sum / C\n",
    "        loss_val_array.append(loss_val_avg)\n",
    "\n",
    "    print(f\"Epoch No.{epoch + 1} - Validation loss: {loss_val_avg}\")\n",
    "    print(f\"Epoch No.{epoch + 1} - Validation Accuracy: {acc/C}\")\n",
    "\n",
    "\n",
    "e = time.time()\n",
    "\n",
    "seconds = e - s\n",
    "\n",
    "print(f\"Execution time: {seconds:.4f} seconds\")\n"
   ]
  },
  {
   "cell_type": "code",
   "execution_count": 60,
   "id": "634b1f8e",
   "metadata": {},
   "outputs": [
    {
     "name": "stderr",
     "output_type": "stream",
     "text": [
      "<ipython-input-60-edb5a79f102a>:3: UserWarning: To copy construct from a tensor, it is recommended to use sourceTensor.clone().detach() or sourceTensor.clone().detach().requires_grad_(True), rather than torch.tensor(sourceTensor).\n",
      "  X_test = torch.tensor(X_test, dtype=torch.float32).to(device)\n",
      "<ipython-input-60-edb5a79f102a>:4: UserWarning: To copy construct from a tensor, it is recommended to use sourceTensor.clone().detach() or sourceTensor.clone().detach().requires_grad_(True), rather than torch.tensor(sourceTensor).\n",
      "  Y_test = torch.tensor(Y_test, dtype=torch.long).to(device)\n"
     ]
    },
    {
     "name": "stdout",
     "output_type": "stream",
     "text": [
      "Accuracy: 54.03%\n"
     ]
    }
   ],
   "source": [
    "with torch.no_grad():\n",
    "    model_vgg1.eval()\n",
    "    X_test = torch.tensor(X_test, dtype=torch.float32).to(device)\n",
    "    Y_test = torch.tensor(Y_test, dtype=torch.long).to(device)\n",
    "    loss_test_sum = 0\n",
    "    acc_test = 0\n",
    "    y_pred = []\n",
    "    y_true = []\n",
    "\n",
    "    for i in range(len(X_test)):\n",
    "        X_test_i = X_test[i:i+1]\n",
    "        Y_test_i = Y_test[i:i+1]\n",
    "\n",
    "        y_pred_test = model_vgg1(X_test_i)\n",
    "        y_pred.append(torch.argmax(y_pred_test, dim=1).item())\n",
    "        y_true.append(Y_test_i.item())\n",
    "\n",
    "        loss_test = criterion(y_pred_test, Y_test_i)\n",
    "        loss_test_sum += loss_test\n",
    "\n",
    "        _, predicted_test = torch.max(y_pred_test.data, 1)\n",
    "        accuracy_test = (predicted_test == Y_test_i).sum().item() / len(Y_test_i)\n",
    "        acc_test += accuracy_test\n",
    "\n",
    "    accuracy_test_result = acc_test / len(X_test)\n",
    "    print(f\"Accuracy: {accuracy_test_result * 100:.2f}%\")\n",
    "\n",
    "    loss = loss_test_sum/(len(X_test))\n",
    "\n",
    "y_true = np.array(y_true)\n",
    "y_pred = np.array(y_pred)\n"
   ]
  },
  {
   "cell_type": "code",
   "execution_count": 61,
   "id": "98c79efc",
   "metadata": {},
   "outputs": [],
   "source": [
    "weights_val_vgg_op = model_vgg1.state_dict()\n",
    "torch.save(weights_val_vgg_op, \"model_vgg_op.pth\")"
   ]
  },
  {
   "cell_type": "code",
   "execution_count": 62,
   "id": "e6d326cb",
   "metadata": {},
   "outputs": [
    {
     "data": {
      "image/png": "[encoded data removed]",
      "text/plain": [
       "<Figure size 1440x720 with 2 Axes>"
      ]
     },
     "metadata": {
      "needs_background": "light"
     },
     "output_type": "display_data"
    }
   ],
   "source": [
    "plt.figure(figsize=(20, 10))\n",
    "\n",
    "plt.subplot(1, 2, 1)\n",
    "plt.plot([i for i in range(1,epochs+1)], loss_train, label=\"Training Loss\")\n",
    "plt.plot([i for i in range(1,epochs+1)], loss_val_array, label=\"Validation Loss\")\n",
    "plt.legend()\n",
    "plt.xlabel(\"Epoch\")\n",
    "plt.ylabel(\"Loss\")\n",
    "\n",
    "plt.subplot(1, 2, 2)\n",
    "plt.plot([i for i in range(1,epochs+1)], accuracy_train_array, label = \"Training Accuracy\")\n",
    "plt.plot([i for i in range(1,epochs+1)], accuracy_val_array, label = \"Validation Accuracy\")\n",
    "plt.legend()\n",
    "plt.xlabel(\"Epoch\")\n",
    "plt.ylabel(\"Accuracy\")\n",
    "\n",
    "plt.show()"
   ]
  },
  {
   "cell_type": "code",
   "execution_count": 63,
   "id": "cf8403c0",
   "metadata": {},
   "outputs": [
    {
     "name": "stdout",
     "output_type": "stream",
     "text": [
      "Class 1 - True Positive Rate: 0.57, False Positive Rate: 0.14\n",
      "Class 1 - Precision: 0.39, Recall: 0.57\n",
      "\n",
      "Class 2 - True Positive Rate: 0.00, False Positive Rate: 0.00\n",
      "Class 2 - Precision: 0.00, Recall: 0.00\n",
      "\n",
      "Class 3 - True Positive Rate: 0.19, False Positive Rate: 0.05\n",
      "Class 3 - Precision: 0.41, Recall: 0.19\n",
      "\n",
      "Class 4 - True Positive Rate: 0.82, False Positive Rate: 0.08\n",
      "Class 4 - Precision: 0.77, Recall: 0.82\n",
      "\n",
      "Class 5 - True Positive Rate: 0.57, False Positive Rate: 0.20\n",
      "Class 5 - Precision: 0.36, Recall: 0.57\n",
      "\n",
      "Class 6 - True Positive Rate: 0.55, False Positive Rate: 0.02\n",
      "Class 6 - Precision: 0.78, Recall: 0.55\n",
      "\n",
      "Class 7 - True Positive Rate: 0.43, False Positive Rate: 0.07\n",
      "Class 7 - Precision: 0.58, Recall: 0.43\n",
      "\n"
     ]
    }
   ],
   "source": [
    "con_mat = confusion_matrix(y_true, y_pred)\n",
    "\n",
    "number_of_classes = con_mat.shape[0]\n",
    "\n",
    "for i in range(number_of_classes):\n",
    "\n",
    "    tp = con_mat[i, i]\n",
    "    fn = np.sum(con_mat[i, :]) - tp\n",
    "    fp = np.sum(con_mat[:, i]) - tp\n",
    "    tn = np.sum(con_mat) - (tp + fn + fp)\n",
    "\n",
    "    precision = tp / (tp + fp) if tp + fp != 0 else 0\n",
    "    recall = tp / (tp + fn) if tp + fn != 0 else 0\n",
    "\n",
    "    tpr = tp / (tp + fn) if tp + fn != 0 else 0\n",
    "    fpr = fp / (fp + tn) if fp + tn != 0 else 0\n",
    "\n",
    "    print(f\"Class {i + 1} - True Positive Rate: {tpr:.2f}, False Positive Rate: {fpr:.2f}\")\n",
    "    print(f\"Class {i + 1} - Precision: {precision:.2f}, Recall: {recall:.2f}\")\n",
    "    print()"
   ]
  },
  {
   "cell_type": "code",
   "execution_count": 64,
   "id": "b6c94ab4",
   "metadata": {},
   "outputs": [
    {
     "data": {
      "image/png": "[encoded data removed]",
      "text/plain": [
       "<Figure size 432x288 with 2 Axes>"
      ]
     },
     "metadata": {
      "needs_background": "light"
     },
     "output_type": "display_data"
    },
    {
     "data": {
      "text/plain": [
       "<Figure size 1440x720 with 0 Axes>"
      ]
     },
     "metadata": {},
     "output_type": "display_data"
    }
   ],
   "source": [
    "sns.heatmap(con_mat, annot = True, cmap = 'cividis', cbar = True)\n",
    "\n",
    "plt.xlabel('Predicted')\n",
    "plt.ylabel('True')\n",
    "plt.figure(figsize=(20,10))\n",
    "plt.show()"
   ]
  },
  {
   "cell_type": "code",
   "execution_count": 65,
   "id": "9be36933",
   "metadata": {},
   "outputs": [
    {
     "name": "stdout",
     "output_type": "stream",
     "text": [
      "Precision: 0.5547116680775224\n",
      "Recall: 0.540261911395932\n",
      "F1: 0.5312878880846599\n"
     ]
    },
    {
     "name": "stderr",
     "output_type": "stream",
     "text": [
      "C:\\Users\\nages\\anaconda3\\lib\\site-packages\\sklearn\\metrics\\_classification.py:1245: UndefinedMetricWarning: Precision is ill-defined and being set to 0.0 in labels with no predicted samples. Use `zero_division` parameter to control this behavior.\n",
      "  _warn_prf(average, modifier, msg_start, len(result))\n"
     ]
    }
   ],
   "source": [
    "precision = precision_score(y_true, y_pred, average='weighted')\n",
    "recall = recall_score(y_true, y_pred, average='weighted')\n",
    "f1 = f1_score(y_true, y_pred, average='weighted')\n",
    "print(f\"Precision: {precision}\")\n",
    "print(f\"Recall: {recall}\")\n",
    "print(f\"F1: {f1}\")"
   ]
  },
  {
   "cell_type": "code",
   "execution_count": null,
   "id": "9f6cfcb1",
   "metadata": {},
   "outputs": [],
   "source": []
  },
  {
   "cell_type": "code",
   "execution_count": 66,
   "id": "EFPbx22_UUh-",
   "metadata": {
    "colab": {
     "base_uri": "https://localhost:8080/"
    },
    "id": "EFPbx22_UUh-",
    "outputId": "9c1a6eb9-8a6d-4986-f7ba-d6e0661a1211"
   },
   "outputs": [
    {
     "data": {
      "text/plain": [
       "=================================================================\n",
       "Layer (type:depth-idx)                   Param #\n",
       "=================================================================\n",
       "ResNetB                                  --\n",
       "├─Conv2d: 1-1                            9,408\n",
       "├─BatchNorm2d: 1-2                       128\n",
       "├─ReLU: 1-3                              --\n",
       "├─MaxPool2d: 1-4                         --\n",
       "├─Sequential: 1-5                        --\n",
       "│    └─BasicBlock: 2-1                   --\n",
       "│    │    └─Conv2d: 3-1                  36,864\n",
       "│    │    └─BatchNorm2d: 3-2             128\n",
       "│    │    └─ReLU: 3-3                    --\n",
       "│    │    └─Conv2d: 3-4                  36,864\n",
       "│    │    └─BatchNorm2d: 3-5             128\n",
       "│    └─BasicBlock: 2-2                   --\n",
       "│    │    └─Conv2d: 3-6                  36,864\n",
       "│    │    └─BatchNorm2d: 3-7             128\n",
       "│    │    └─ReLU: 3-8                    --\n",
       "│    │    └─Conv2d: 3-9                  36,864\n",
       "│    │    └─BatchNorm2d: 3-10            128\n",
       "├─Sequential: 1-6                        --\n",
       "│    └─BasicBlock: 2-3                   --\n",
       "│    │    └─Conv2d: 3-11                 73,728\n",
       "│    │    └─BatchNorm2d: 3-12            256\n",
       "│    │    └─ReLU: 3-13                   --\n",
       "│    │    └─Conv2d: 3-14                 147,456\n",
       "│    │    └─BatchNorm2d: 3-15            256\n",
       "│    │    └─Sequential: 3-16             8,448\n",
       "│    └─BasicBlock: 2-4                   --\n",
       "│    │    └─Conv2d: 3-17                 147,456\n",
       "│    │    └─BatchNorm2d: 3-18            256\n",
       "│    │    └─ReLU: 3-19                   --\n",
       "│    │    └─Conv2d: 3-20                 147,456\n",
       "│    │    └─BatchNorm2d: 3-21            256\n",
       "├─Sequential: 1-7                        --\n",
       "│    └─BasicBlock: 2-5                   --\n",
       "│    │    └─Conv2d: 3-22                 294,912\n",
       "│    │    └─BatchNorm2d: 3-23            512\n",
       "│    │    └─ReLU: 3-24                   --\n",
       "│    │    └─Conv2d: 3-25                 589,824\n",
       "│    │    └─BatchNorm2d: 3-26            512\n",
       "│    │    └─Sequential: 3-27             33,280\n",
       "│    └─BasicBlock: 2-6                   --\n",
       "│    │    └─Conv2d: 3-28                 589,824\n",
       "│    │    └─BatchNorm2d: 3-29            512\n",
       "│    │    └─ReLU: 3-30                   --\n",
       "│    │    └─Conv2d: 3-31                 589,824\n",
       "│    │    └─BatchNorm2d: 3-32            512\n",
       "├─Sequential: 1-8                        --\n",
       "│    └─BasicBlock: 2-7                   --\n",
       "│    │    └─Conv2d: 3-33                 1,179,648\n",
       "│    │    └─BatchNorm2d: 3-34            1,024\n",
       "│    │    └─ReLU: 3-35                   --\n",
       "│    │    └─Conv2d: 3-36                 2,359,296\n",
       "│    │    └─BatchNorm2d: 3-37            1,024\n",
       "│    │    └─Sequential: 3-38             132,096\n",
       "│    └─BasicBlock: 2-8                   --\n",
       "│    │    └─Conv2d: 3-39                 2,359,296\n",
       "│    │    └─BatchNorm2d: 3-40            1,024\n",
       "│    │    └─ReLU: 3-41                   --\n",
       "│    │    └─Conv2d: 3-42                 2,359,296\n",
       "│    │    └─BatchNorm2d: 3-43            1,024\n",
       "├─AdaptiveAvgPool2d: 1-9                 --\n",
       "├─Linear: 1-10                           3,591\n",
       "=================================================================\n",
       "Total params: 11,180,103\n",
       "Trainable params: 11,180,103\n",
       "Non-trainable params: 0\n",
       "================================================================="
      ]
     },
     "execution_count": 66,
     "metadata": {},
     "output_type": "execute_result"
    }
   ],
   "source": [
    "class BasicBlock(nn.Module):\n",
    "    expansion = 1\n",
    "\n",
    "    def __init__(self, in_channels, out_channels, stride=1, downsample=None):\n",
    "        super(BasicBlock, self).__init__()\n",
    "        self.conv1 = nn.Conv2d(in_channels, out_channels, kernel_size=3, stride=stride, padding=1, bias=False)\n",
    "        self.bn1 = nn.BatchNorm2d(out_channels)\n",
    "        self.relu = nn.ReLU(inplace=True)\n",
    "        self.conv2 = nn.Conv2d(out_channels, out_channels, kernel_size=3, stride=1, padding=1, bias=False)\n",
    "        self.bn2 = nn.BatchNorm2d(out_channels)\n",
    "        self.downsample = downsample\n",
    "\n",
    "    def forward(self, x):\n",
    "        identity = x\n",
    "\n",
    "        out = self.conv1(x)\n",
    "        out = self.bn1(out)\n",
    "        out = self.relu(out)\n",
    "\n",
    "        out = self.conv2(out)\n",
    "        out = self.bn2(out)\n",
    "\n",
    "        if self.downsample is not None:\n",
    "            identity = self.downsample(x)\n",
    "\n",
    "        out += identity\n",
    "        out = self.relu(out)\n",
    "\n",
    "        return out\n",
    "\n",
    "class ResNetB(nn.Module):\n",
    "    def __init__(self, num_classes=7):\n",
    "        super(ResNetB, self).__init__()\n",
    "        self.in_channels = 64\n",
    "        self.conv1 = nn.Conv2d(3, 64, kernel_size=7, stride=2, padding=3, bias=False)\n",
    "        self.bn1 = nn.BatchNorm2d(64)\n",
    "        self.relu = nn.ReLU(inplace=True)\n",
    "        self.maxpool = nn.MaxPool2d(kernel_size=3, stride=2, padding=1)\n",
    "        self.layer1 = self._make_layer(64, 2, stride=1)\n",
    "        self.layer2 = self._make_layer(128, 2, stride=2)\n",
    "        self.layer3 = self._make_layer(256, 2, stride=2)\n",
    "        self.layer4 = self._make_layer(512, 2, stride=2)\n",
    "        self.avgpool = nn.AdaptiveAvgPool2d((1, 1))\n",
    "        self.fc = nn.Linear(512, num_classes)\n",
    "\n",
    "    def _make_layer(self, out_channels, blocks, stride):\n",
    "        downsample = None\n",
    "        if stride != 1 or self.in_channels != out_channels:\n",
    "            downsample = nn.Sequential(\n",
    "                nn.Conv2d(self.in_channels, out_channels, kernel_size=1, stride=stride, bias=False),\n",
    "                nn.BatchNorm2d(out_channels),\n",
    "            )\n",
    "        layers = []\n",
    "        layers.append(BasicBlock(self.in_channels, out_channels, stride, downsample))\n",
    "        self.in_channels = out_channels\n",
    "        for _ in range(1, blocks):\n",
    "            layers.append(BasicBlock(self.in_channels, out_channels))\n",
    "        return nn.Sequential(*layers)\n",
    "\n",
    "    def forward(self, x):\n",
    "        x = self.conv1(x)\n",
    "        x = self.bn1(x)\n",
    "        x = self.relu(x)\n",
    "        x = self.maxpool(x)\n",
    "        x = self.layer1(x)\n",
    "        x = self.layer2(x)\n",
    "        x = self.layer3(x)\n",
    "        x = self.layer4(x)\n",
    "        x = self.avgpool(x)\n",
    "        x = torch.flatten(x, 1)\n",
    "        x = self.fc(x)\n",
    "        return x\n",
    "modelResnet0 = ResNetB().to(device)\n",
    "summary(modelResnet0)"
   ]
  },
  {
   "cell_type": "code",
   "execution_count": 67,
   "id": "xqCvsUqHUhrh",
   "metadata": {
    "colab": {
     "base_uri": "https://localhost:8080/"
    },
    "id": "xqCvsUqHUhrh",
    "outputId": "24bcb452-6dd3-47f9-9101-185e686267cd"
   },
   "outputs": [
    {
     "name": "stdout",
     "output_type": "stream",
     "text": [
      "Epoch No.1 -> Training loss: 1.5055942931215078\n",
      "Epoch No.1 -> Training Accuracy: 0.4151949860724234\n",
      "Epoch No.1 - Validation loss: 1.41112639453676\n",
      "Epoch No.1 - Validation Accuracy: 0.45816666666666667\n",
      "Epoch No.2 -> Training loss: 1.249274040082039\n",
      "Epoch No.2 -> Training Accuracy: 0.5256197771587744\n",
      "Epoch No.2 - Validation loss: 1.4088626986079746\n",
      "Epoch No.2 - Validation Accuracy: 0.46705555555555556\n",
      "Epoch No.3 -> Training loss: 1.0250470538657355\n",
      "Epoch No.3 -> Training Accuracy: 0.6209610027855154\n",
      "Epoch No.3 - Validation loss: 1.486858726872338\n",
      "Epoch No.3 - Validation Accuracy: 0.4786666666666667\n",
      "Epoch No.4 -> Training loss: 0.7684673600127105\n",
      "Epoch No.4 -> Training Accuracy: 0.7209610027855153\n",
      "Epoch No.4 - Validation loss: 1.7380684542655944\n",
      "Epoch No.4 - Validation Accuracy: 0.47783333333333333\n",
      "Epoch No.5 -> Training loss: 0.5500382949216784\n",
      "Epoch No.5 -> Training Accuracy: 0.8057103064066853\n",
      "Epoch No.5 - Validation loss: 1.9014883613586426\n",
      "Epoch No.5 - Validation Accuracy: 0.4958888888888889\n",
      "Epoch No.6 -> Training loss: 0.4170247420813878\n",
      "Epoch No.6 -> Training Accuracy: 0.8520543175487465\n",
      "Epoch No.6 - Validation loss: 2.0318582895067\n",
      "Epoch No.6 - Validation Accuracy: 0.4956111111111111\n",
      "Epoch No.7 -> Training loss: 0.32959347486828033\n",
      "Epoch No.7 -> Training Accuracy: 0.8826949860724234\n",
      "Epoch No.7 - Validation loss: 2.1726262903213502\n",
      "Epoch No.7 - Validation Accuracy: 0.4912222222222222\n",
      "Epoch No.8 -> Training loss: 0.2749847983687203\n",
      "Epoch No.8 -> Training Accuracy: 0.902715877437326\n",
      "Epoch No.8 - Validation loss: 2.2821061529053583\n",
      "Epoch No.8 - Validation Accuracy: 0.48844444444444446\n",
      "Epoch No.9 -> Training loss: 0.2359071509388579\n",
      "Epoch No.9 -> Training Accuracy: 0.9163300835654596\n",
      "Epoch No.9 - Validation loss: 2.3317667680316503\n",
      "Epoch No.9 - Validation Accuracy: 0.47894444444444445\n",
      "Epoch No.10 -> Training loss: 0.21554931544784384\n",
      "Epoch No.10 -> Training Accuracy: 0.9254526462395544\n",
      "Epoch No.10 - Validation loss: 2.4026973658137853\n",
      "Epoch No.10 - Validation Accuracy: 0.496\n",
      "Execution time: 457.9029 seconds\n"
     ]
    }
   ],
   "source": [
    "import time\n",
    "\n",
    "s = time.time()\n",
    "\n",
    "torch.manual_seed(18)\n",
    "np.random.seed(18)\n",
    "\n",
    "criterion = nn.CrossEntropyLoss()\n",
    "optimizer = torch.optim.Adam(modelResnet0.parameters(), lr = 0.0001)\n",
    "\n",
    "epochs = 10\n",
    "\n",
    "bs = 16\n",
    "loss_val_array , loss_train , accuracy_train_array , accuracy_val_array = [], [], [], []\n",
    "\n",
    "for epoch in range(epochs):\n",
    "    modelResnet0.train() \n",
    "    loss_sum_train = 0\n",
    "    c = 0\n",
    "    acc = 0\n",
    "    for j in range(0, len(X_train), bs):\n",
    "        \n",
    "        c += 1\n",
    "        X_traini = X_train[j:j+bs]\n",
    "        X_traini = X_traini.to(device)\n",
    "        Y_traini = Y_train[j:j+bs]\n",
    "        Y_traini = Y_traini.to(device)\n",
    "        y_pred = modelResnet0(X_traini) \n",
    "        loss = criterion(y_pred, Y_traini)\n",
    "        loss_sum_train += loss.item()  \n",
    "        optimizer.zero_grad()\n",
    "        loss.backward()\n",
    "        optimizer.step()\n",
    "\n",
    "        _, predicted = torch.max(y_pred, 1) \n",
    "        accuracy = (predicted == Y_traini).sum().item() / len(Y_traini)\n",
    "        acc += accuracy\n",
    "\n",
    "    accuracy_train_array.append(acc/c)\n",
    "\n",
    "    loss_avg = loss_sum_train / c\n",
    "    loss_train.append(loss_avg)\n",
    "\n",
    "    print(f\"Epoch No.{epoch + 1} -> Training loss: {loss_avg}\")\n",
    "    print(f\"Epoch No.{epoch + 1} -> Training Accuracy: {acc/c}\")\n",
    "\n",
    "    modelResnet0.eval()  \n",
    "\n",
    "    with torch.no_grad():\n",
    "        loss_val_sum = 0\n",
    "        C = 0\n",
    "        acc = 0\n",
    "        for k in range(0, len(X_val), bs):\n",
    "            C += 1\n",
    "            X_vali = X_val[k:k+bs]\n",
    "            Y_vali = Y_val[k:k+bs]\n",
    "            X_vali = X_vali.to(device)\n",
    "            Y_vali = Y_vali.to(device)\n",
    "            y_pred_val = modelResnet0(X_vali)  \n",
    "            loss_val = criterion(y_pred_val, Y_vali)\n",
    "            loss_val_sum += loss_val.item()  \n",
    "            _, predicted_val = torch.max(y_pred_val, 1)  \n",
    "            accuracy_val = (predicted_val == Y_vali).sum().item() / len(Y_vali)\n",
    "            acc += accuracy_val\n",
    "\n",
    "        accuracy_val_array.append(acc / C)\n",
    "        loss_val_avg = loss_val_sum / C\n",
    "        loss_val_array.append(loss_val_avg)\n",
    "\n",
    "    print(f\"Epoch No.{epoch + 1} - Validation loss: {loss_val_avg}\")\n",
    "    print(f\"Epoch No.{epoch + 1} - Validation Accuracy: {acc/C}\")\n",
    "\n",
    "\n",
    "e = time.time()\n",
    "\n",
    "seconds = e - s\n",
    "\n",
    "print(f\"Execution time: {seconds:.4f} seconds\")"
   ]
  },
  {
   "cell_type": "code",
   "execution_count": 68,
   "id": "E5xbBjr1Uo9P",
   "metadata": {
    "colab": {
     "base_uri": "https://localhost:8080/",
     "height": 1000
    },
    "id": "E5xbBjr1Uo9P",
    "outputId": "19b9dc3c-01ed-4eaa-a3ae-853e3114b2fb",
    "scrolled": true
   },
   "outputs": [
    {
     "name": "stderr",
     "output_type": "stream",
     "text": [
      "<ipython-input-68-f9cc196ebf7f>:3: UserWarning: To copy construct from a tensor, it is recommended to use sourceTensor.clone().detach() or sourceTensor.clone().detach().requires_grad_(True), rather than torch.tensor(sourceTensor).\n",
      "  X_test = torch.tensor(X_test, dtype=torch.float32).to(device)\n",
      "<ipython-input-68-f9cc196ebf7f>:4: UserWarning: To copy construct from a tensor, it is recommended to use sourceTensor.clone().detach() or sourceTensor.clone().detach().requires_grad_(True), rather than torch.tensor(sourceTensor).\n",
      "  Y_test = torch.tensor(Y_test, dtype=torch.long).to(device)\n"
     ]
    },
    {
     "name": "stdout",
     "output_type": "stream",
     "text": [
      "Accuracy: 50.63%\n"
     ]
    }
   ],
   "source": [
    "with torch.no_grad():\n",
    "    modelResnet0.eval()\n",
    "    X_test = torch.tensor(X_test, dtype=torch.float32).to(device)\n",
    "    Y_test = torch.tensor(Y_test, dtype=torch.long).to(device)\n",
    "    loss_test_sum = 0\n",
    "    acc_test = 0\n",
    "    y_pred = []\n",
    "    y_true = []\n",
    "\n",
    "    for i in range(len(X_test)):\n",
    "        X_test_i = X_test[i:i+1]\n",
    "        Y_test_i = Y_test[i:i+1]\n",
    "\n",
    "        y_pred_test = modelResnet0(X_test_i)\n",
    "        y_pred.append(torch.argmax(y_pred_test, dim=1).item())\n",
    "        y_true.append(Y_test_i.item())\n",
    "\n",
    "        loss_test = criterion(y_pred_test, Y_test_i)\n",
    "        loss_test_sum += loss_test\n",
    "\n",
    "        _, predicted_test = torch.max(y_pred_test.data, 1)\n",
    "        accuracy_test = (predicted_test == Y_test_i).sum().item() / len(Y_test_i)\n",
    "        acc_test += accuracy_test\n",
    "\n",
    "    accuracy_test_result = acc_test / len(X_test)\n",
    "    print(f\"Accuracy: {accuracy_test_result * 100:.2f}%\")\n",
    "\n",
    "    loss = loss_test_sum/(len(X_test))\n",
    "y_true = np.array(y_true)\n",
    "y_pred = np.array(y_pred)"
   ]
  },
  {
   "cell_type": "code",
   "execution_count": 69,
   "id": "9e3938f1",
   "metadata": {},
   "outputs": [],
   "source": [
    "weights_val_resnet0 = modelResnet0.state_dict()\n",
    "torch.save(weights_val_resnet0, \"modelResnet0.pth\")"
   ]
  },
  {
   "cell_type": "code",
   "execution_count": 70,
   "id": "6GLa0neWXuzK",
   "metadata": {
    "id": "6GLa0neWXuzK"
   },
   "outputs": [
    {
     "data": {
      "image/png": "[encoded data removed]",
      "text/plain": [
       "<Figure size 1440x720 with 2 Axes>"
      ]
     },
     "metadata": {
      "needs_background": "light"
     },
     "output_type": "display_data"
    }
   ],
   "source": [
    "plt.figure(figsize=(20, 10))\n",
    "\n",
    "plt.subplot(1, 2, 1)\n",
    "plt.plot([i for i in range(1,epochs+1)], loss_train, label=\"Training Loss\")\n",
    "plt.plot([i for i in range(1,epochs+1)], loss_val_array, label=\"Validation Loss\")\n",
    "plt.legend()\n",
    "plt.xlabel(\"Epoch\")\n",
    "plt.ylabel(\"Loss\")\n",
    "\n",
    "plt.subplot(1, 2, 2)\n",
    "plt.plot([i for i in range(1,epochs+1)], accuracy_train_array, label = \"Training Accuracy\")\n",
    "plt.plot([i for i in range(1,epochs+1)], accuracy_val_array, label = \"Validation Accuracy\")\n",
    "plt.legend()\n",
    "plt.xlabel(\"Epoch\")\n",
    "plt.ylabel(\"Accuracy\")\n",
    "\n",
    "plt.show()"
   ]
  },
  {
   "cell_type": "code",
   "execution_count": 71,
   "id": "7debd575",
   "metadata": {},
   "outputs": [
    {
     "name": "stdout",
     "output_type": "stream",
     "text": [
      "Class 1 - True Positive Rate: 0.47, False Positive Rate: 0.14\n",
      "Class 1 - Precision: 0.35, Recall: 0.47\n",
      "\n",
      "Class 2 - True Positive Rate: 0.45, False Positive Rate: 0.00\n",
      "Class 2 - Precision: 0.66, Recall: 0.45\n",
      "\n",
      "Class 3 - True Positive Rate: 0.35, False Positive Rate: 0.08\n",
      "Class 3 - Precision: 0.44, Recall: 0.35\n",
      "\n",
      "Class 4 - True Positive Rate: 0.65, False Positive Rate: 0.04\n",
      "Class 4 - Precision: 0.84, Recall: 0.65\n",
      "\n",
      "Class 5 - True Positive Rate: 0.38, False Positive Rate: 0.13\n",
      "Class 5 - Precision: 0.36, Recall: 0.38\n",
      "\n",
      "Class 6 - True Positive Rate: 0.57, False Positive Rate: 0.04\n",
      "Class 6 - Precision: 0.68, Recall: 0.57\n",
      "\n",
      "Class 7 - True Positive Rate: 0.56, False Positive Rate: 0.16\n",
      "Class 7 - Precision: 0.42, Recall: 0.56\n",
      "\n"
     ]
    }
   ],
   "source": [
    "con_mat = confusion_matrix(y_true, y_pred)\n",
    "\n",
    "number_of_classes = con_mat.shape[0]\n",
    "\n",
    "for i in range(number_of_classes):\n",
    "\n",
    "    tp = con_mat[i, i]\n",
    "    fn = np.sum(con_mat[i, :]) - tp\n",
    "    fp = np.sum(con_mat[:, i]) - tp\n",
    "    tn = np.sum(con_mat) - (tp + fn + fp)\n",
    "\n",
    "    precision = tp / (tp + fp) if tp + fp != 0 else 0\n",
    "    recall = tp / (tp + fn) if tp + fn != 0 else 0\n",
    "\n",
    "    tpr = tp / (tp + fn) if tp + fn != 0 else 0\n",
    "    fpr = fp / (fp + tn) if fp + tn != 0 else 0\n",
    "\n",
    "    print(f\"Class {i + 1} - True Positive Rate: {tpr:.2f}, False Positive Rate: {fpr:.2f}\")\n",
    "    print(f\"Class {i + 1} - Precision: {precision:.2f}, Recall: {recall:.2f}\")\n",
    "    print()"
   ]
  },
  {
   "cell_type": "code",
   "execution_count": 72,
   "id": "a2dc131f",
   "metadata": {},
   "outputs": [
    {
     "data": {
      "image/png": "[encoded data removed]",
      "text/plain": [
       "<Figure size 432x288 with 2 Axes>"
      ]
     },
     "metadata": {
      "needs_background": "light"
     },
     "output_type": "display_data"
    },
    {
     "data": {
      "text/plain": [
       "<Figure size 1440x720 with 0 Axes>"
      ]
     },
     "metadata": {},
     "output_type": "display_data"
    }
   ],
   "source": [
    "sns.heatmap(con_mat, annot = True, cmap = 'cividis', cbar = True)\n",
    "\n",
    "plt.xlabel('Predicted')\n",
    "plt.ylabel('True')\n",
    "plt.figure(figsize=(20,10))\n",
    "plt.show()"
   ]
  },
  {
   "cell_type": "code",
   "execution_count": 73,
   "id": "160e7992",
   "metadata": {},
   "outputs": [
    {
     "name": "stdout",
     "output_type": "stream",
     "text": [
      "Precision: 0.540202535811535\n",
      "Recall: 0.5062691557536918\n",
      "F1: 0.5156901734201564\n"
     ]
    }
   ],
   "source": [
    "precision = precision_score(y_true, y_pred, average='weighted')\n",
    "recall = recall_score(y_true, y_pred, average='weighted')\n",
    "f1 = f1_score(y_true, y_pred, average='weighted')\n",
    "print(f\"Precision: {precision}\")\n",
    "print(f\"Recall: {recall}\")\n",
    "print(f\"F1: {f1}\")"
   ]
  },
  {
   "cell_type": "code",
   "execution_count": 74,
   "id": "e72c598d",
   "metadata": {},
   "outputs": [
    {
     "name": "stdout",
     "output_type": "stream",
     "text": [
      "Epoch No.1 -> Training loss: 1.4345088266728647\n",
      "Epoch No.1 -> Training Accuracy: 0.4574930362116992\n",
      "Epoch No.1 - Validation loss: 1.5754776361253526\n",
      "Epoch No.1 - Validation Accuracy: 0.37877777777777777\n",
      "Epoch No.2 -> Training loss: 1.3226548759054009\n",
      "Epoch No.2 -> Training Accuracy: 0.5007172701949861\n",
      "Epoch No.2 - Validation loss: 1.3741936405499777\n",
      "Epoch No.2 - Validation Accuracy: 0.46455555555555555\n",
      "Epoch No.3 -> Training loss: 1.2769929182562656\n",
      "Epoch No.3 -> Training Accuracy: 0.5170403899721449\n",
      "Epoch No.3 - Validation loss: 1.3517772388458251\n",
      "Epoch No.3 - Validation Accuracy: 0.4751666666666666\n",
      "Epoch No.4 -> Training loss: 1.223361378127818\n",
      "Epoch No.4 -> Training Accuracy: 0.5398119777158774\n",
      "Epoch No.4 - Validation loss: 1.341810232533349\n",
      "Epoch No.4 - Validation Accuracy: 0.48150000000000004\n",
      "Epoch No.5 -> Training loss: 1.170680684830817\n",
      "Epoch No.5 -> Training Accuracy: 0.5584122562674095\n",
      "Epoch No.5 - Validation loss: 1.3076070862346225\n",
      "Epoch No.5 - Validation Accuracy: 0.5020555555555556\n",
      "Epoch No.6 -> Training loss: 1.1181912880920102\n",
      "Epoch No.6 -> Training Accuracy: 0.5843871866295264\n",
      "Epoch No.6 - Validation loss: 1.2600227136082118\n",
      "Epoch No.6 - Validation Accuracy: 0.5215000000000001\n",
      "Epoch No.7 -> Training loss: 1.0698589922491886\n",
      "Epoch No.7 -> Training Accuracy: 0.5997493036211698\n",
      "Epoch No.7 - Validation loss: 1.2692143032285903\n",
      "Epoch No.7 - Validation Accuracy: 0.5203888888888889\n",
      "Epoch No.8 -> Training loss: 1.0260636815785698\n",
      "Epoch No.8 -> Training Accuracy: 0.619658774373259\n",
      "Epoch No.8 - Validation loss: 1.2753199688593546\n",
      "Epoch No.8 - Validation Accuracy: 0.5309444444444444\n",
      "Epoch No.9 -> Training loss: 0.9887588471755344\n",
      "Epoch No.9 -> Training Accuracy: 0.6336699164345404\n",
      "Epoch No.9 - Validation loss: 1.2837163466877408\n",
      "Epoch No.9 - Validation Accuracy: 0.5384444444444445\n",
      "Epoch No.10 -> Training loss: 0.9491903964191426\n",
      "Epoch No.10 -> Training Accuracy: 0.6486977715877437\n",
      "Epoch No.10 - Validation loss: 1.3418678217464024\n",
      "Epoch No.10 - Validation Accuracy: 0.532888888888889\n",
      "Execution time: 478.0831 seconds\n"
     ]
    }
   ],
   "source": [
    "import time\n",
    "\n",
    "s = time.time()\n",
    "\n",
    "torch.manual_seed(18)\n",
    "np.random.seed(18)\n",
    "\n",
    "criterion = nn.CrossEntropyLoss()\n",
    "optimizer = torch.optim.Adam(modelResnet0.parameters(), lr = 0.001, weight_decay = 0.001)\n",
    "\n",
    "epochs = 10\n",
    "\n",
    "bs = 16\n",
    "loss_val_array , loss_train , accuracy_train_array , accuracy_val_array = [], [], [], []\n",
    "\n",
    "for epoch in range(epochs):\n",
    "    modelResnet0.train() \n",
    "    loss_sum_train = 0\n",
    "    c = 0\n",
    "    acc = 0\n",
    "    for j in range(0, len(X_train), bs):\n",
    "        \n",
    "        c += 1\n",
    "        X_traini = X_train[j:j+bs]\n",
    "        X_traini = X_traini.to(device)\n",
    "        Y_traini = Y_train[j:j+bs]\n",
    "        Y_traini = Y_traini.to(device)\n",
    "        y_pred = modelResnet0(X_traini) \n",
    "        loss = criterion(y_pred, Y_traini)\n",
    "        loss_sum_train += loss.item()  \n",
    "        optimizer.zero_grad()\n",
    "        loss.backward()\n",
    "        optimizer.step()\n",
    "\n",
    "        _, predicted = torch.max(y_pred, 1) \n",
    "        accuracy = (predicted == Y_traini).sum().item() / len(Y_traini)\n",
    "        acc += accuracy\n",
    "\n",
    "    accuracy_train_array.append(acc/c)\n",
    "\n",
    "    loss_avg = loss_sum_train / c\n",
    "    loss_train.append(loss_avg)\n",
    "\n",
    "    print(f\"Epoch No.{epoch + 1} -> Training loss: {loss_avg}\")\n",
    "    print(f\"Epoch No.{epoch + 1} -> Training Accuracy: {acc/c}\")\n",
    "\n",
    "    modelResnet0.eval()  \n",
    "\n",
    "    with torch.no_grad():\n",
    "        loss_val_sum = 0\n",
    "        C = 0\n",
    "        acc = 0\n",
    "        for k in range(0, len(X_val), bs):\n",
    "            C += 1\n",
    "            X_vali = X_val[k:k+bs]\n",
    "            Y_vali = Y_val[k:k+bs]\n",
    "            X_vali = X_vali.to(device)\n",
    "            Y_vali = Y_vali.to(device)\n",
    "            y_pred_val = modelResnet0(X_vali)  \n",
    "            loss_val = criterion(y_pred_val, Y_vali)\n",
    "            loss_val_sum += loss_val.item()  \n",
    "            _, predicted_val = torch.max(y_pred_val, 1)  \n",
    "            accuracy_val = (predicted_val == Y_vali).sum().item() / len(Y_vali)\n",
    "            acc += accuracy_val\n",
    "\n",
    "        accuracy_val_array.append(acc / C)\n",
    "        loss_val_avg = loss_val_sum / C\n",
    "        loss_val_array.append(loss_val_avg)\n",
    "\n",
    "    print(f\"Epoch No.{epoch + 1} - Validation loss: {loss_val_avg}\")\n",
    "    print(f\"Epoch No.{epoch + 1} - Validation Accuracy: {acc/C}\")\n",
    "\n",
    "\n",
    "e = time.time()\n",
    "\n",
    "seconds = e - s\n",
    "\n",
    "print(f\"Execution time: {seconds:.4f} seconds\")"
   ]
  },
  {
   "cell_type": "code",
   "execution_count": 75,
   "id": "fc1feb80",
   "metadata": {},
   "outputs": [
    {
     "name": "stderr",
     "output_type": "stream",
     "text": [
      "<ipython-input-75-f9cc196ebf7f>:3: UserWarning: To copy construct from a tensor, it is recommended to use sourceTensor.clone().detach() or sourceTensor.clone().detach().requires_grad_(True), rather than torch.tensor(sourceTensor).\n",
      "  X_test = torch.tensor(X_test, dtype=torch.float32).to(device)\n",
      "<ipython-input-75-f9cc196ebf7f>:4: UserWarning: To copy construct from a tensor, it is recommended to use sourceTensor.clone().detach() or sourceTensor.clone().detach().requires_grad_(True), rather than torch.tensor(sourceTensor).\n",
      "  Y_test = torch.tensor(Y_test, dtype=torch.long).to(device)\n"
     ]
    },
    {
     "name": "stdout",
     "output_type": "stream",
     "text": [
      "Accuracy: 54.30%\n"
     ]
    }
   ],
   "source": [
    "with torch.no_grad():\n",
    "    modelResnet0.eval()\n",
    "    X_test = torch.tensor(X_test, dtype=torch.float32).to(device)\n",
    "    Y_test = torch.tensor(Y_test, dtype=torch.long).to(device)\n",
    "    loss_test_sum = 0\n",
    "    acc_test = 0\n",
    "    y_pred = []\n",
    "    y_true = []\n",
    "\n",
    "    for i in range(len(X_test)):\n",
    "        X_test_i = X_test[i:i+1]\n",
    "        Y_test_i = Y_test[i:i+1]\n",
    "\n",
    "        y_pred_test = modelResnet0(X_test_i)\n",
    "        y_pred.append(torch.argmax(y_pred_test, dim=1).item())\n",
    "        y_true.append(Y_test_i.item())\n",
    "\n",
    "        loss_test = criterion(y_pred_test, Y_test_i)\n",
    "        loss_test_sum += loss_test\n",
    "\n",
    "        _, predicted_test = torch.max(y_pred_test.data, 1)\n",
    "        accuracy_test = (predicted_test == Y_test_i).sum().item() / len(Y_test_i)\n",
    "        acc_test += accuracy_test\n",
    "\n",
    "    accuracy_test_result = acc_test / len(X_test)\n",
    "    print(f\"Accuracy: {accuracy_test_result * 100:.2f}%\")\n",
    "\n",
    "    loss = loss_test_sum/(len(X_test))\n",
    "y_true = np.array(y_true)\n",
    "y_pred = np.array(y_pred)"
   ]
  },
  {
   "cell_type": "code",
   "execution_count": 76,
   "id": "624cf545",
   "metadata": {},
   "outputs": [
    {
     "data": {
      "image/png": "[encoded data removed]",
      "text/plain": [
       "<Figure size 1440x720 with 2 Axes>"
      ]
     },
     "metadata": {
      "needs_background": "light"
     },
     "output_type": "display_data"
    }
   ],
   "source": [
    "plt.figure(figsize=(20, 10))\n",
    "\n",
    "plt.subplot(1, 2, 1)\n",
    "plt.plot([i for i in range(1,epochs+1)], loss_train, label=\"Training Loss\")\n",
    "plt.plot([i for i in range(1,epochs+1)], loss_val_array, label=\"Validation Loss\")\n",
    "plt.legend()\n",
    "plt.xlabel(\"Epoch\")\n",
    "plt.ylabel(\"Loss\")\n",
    "\n",
    "plt.subplot(1, 2, 2)\n",
    "plt.plot([i for i in range(1,epochs+1)], accuracy_train_array, label = \"Training Accuracy\")\n",
    "plt.plot([i for i in range(1,epochs+1)], accuracy_val_array, label = \"Validation Accuracy\")\n",
    "plt.legend()\n",
    "plt.xlabel(\"Epoch\")\n",
    "plt.ylabel(\"Accuracy\")\n",
    "\n",
    "plt.show()"
   ]
  },
  {
   "cell_type": "code",
   "execution_count": 77,
   "id": "26065094",
   "metadata": {},
   "outputs": [
    {
     "name": "stdout",
     "output_type": "stream",
     "text": [
      "Class 1 - True Positive Rate: 0.56, False Positive Rate: 0.13\n",
      "Class 1 - Precision: 0.41, Recall: 0.56\n",
      "\n",
      "Class 2 - True Positive Rate: 0.22, False Positive Rate: 0.00\n",
      "Class 2 - Precision: 0.50, Recall: 0.22\n",
      "\n",
      "Class 3 - True Positive Rate: 0.38, False Positive Rate: 0.10\n",
      "Class 3 - Precision: 0.40, Recall: 0.38\n",
      "\n",
      "Class 4 - True Positive Rate: 0.73, False Positive Rate: 0.06\n",
      "Class 4 - Precision: 0.80, Recall: 0.73\n",
      "\n",
      "Class 5 - True Positive Rate: 0.37, False Positive Rate: 0.11\n",
      "Class 5 - Precision: 0.40, Recall: 0.37\n",
      "\n",
      "Class 6 - True Positive Rate: 0.62, False Positive Rate: 0.03\n",
      "Class 6 - Precision: 0.74, Recall: 0.62\n",
      "\n",
      "Class 7 - True Positive Rate: 0.55, False Positive Rate: 0.12\n",
      "Class 7 - Precision: 0.50, Recall: 0.55\n",
      "\n"
     ]
    }
   ],
   "source": [
    "con_mat = confusion_matrix(y_true, y_pred)\n",
    "\n",
    "number_of_classes = con_mat.shape[0]\n",
    "\n",
    "for i in range(number_of_classes):\n",
    "\n",
    "    tp = con_mat[i, i]\n",
    "    fn = np.sum(con_mat[i, :]) - tp\n",
    "    fp = np.sum(con_mat[:, i]) - tp\n",
    "    tn = np.sum(con_mat) - (tp + fn + fp)\n",
    "\n",
    "    precision = tp / (tp + fp) if tp + fp != 0 else 0\n",
    "    recall = tp / (tp + fn) if tp + fn != 0 else 0\n",
    "\n",
    "    tpr = tp / (tp + fn) if tp + fn != 0 else 0\n",
    "    fpr = fp / (fp + tn) if fp + tn != 0 else 0\n",
    "\n",
    "    print(f\"Class {i + 1} - True Positive Rate: {tpr:.2f}, False Positive Rate: {fpr:.2f}\")\n",
    "    print(f\"Class {i + 1} - Precision: {precision:.2f}, Recall: {recall:.2f}\")\n",
    "    print()"
   ]
  },
  {
   "cell_type": "code",
   "execution_count": 78,
   "id": "0394a8d0",
   "metadata": {},
   "outputs": [
    {
     "data": {
      "image/png": "[encoded data removed]",
      "text/plain": [
       "<Figure size 432x288 with 2 Axes>"
      ]
     },
     "metadata": {
      "needs_background": "light"
     },
     "output_type": "display_data"
    },
    {
     "data": {
      "text/plain": [
       "<Figure size 1440x720 with 0 Axes>"
      ]
     },
     "metadata": {},
     "output_type": "display_data"
    }
   ],
   "source": [
    "sns.heatmap(con_mat, annot = True, cmap = 'cividis', cbar = True)\n",
    "\n",
    "plt.xlabel('Predicted')\n",
    "plt.ylabel('True')\n",
    "plt.figure(figsize=(20,10))\n",
    "plt.show()"
   ]
  },
  {
   "cell_type": "code",
   "execution_count": 79,
   "id": "ffb96748",
   "metadata": {},
   "outputs": [
    {
     "name": "stdout",
     "output_type": "stream",
     "text": [
      "Precision: 0.5566150543633681\n",
      "Recall: 0.5430482028420173\n",
      "F1: 0.5459982597362945\n"
     ]
    }
   ],
   "source": [
    "precision = precision_score(y_true, y_pred, average='weighted')\n",
    "recall = recall_score(y_true, y_pred, average='weighted')\n",
    "f1 = f1_score(y_true, y_pred, average='weighted')\n",
    "print(f\"Precision: {precision}\")\n",
    "print(f\"Recall: {recall}\")\n",
    "print(f\"F1: {f1}\")"
   ]
  },
  {
   "cell_type": "code",
   "execution_count": 80,
   "id": "ab603a9f",
   "metadata": {},
   "outputs": [],
   "source": [
    "weights_val_resnet0op = modelResnet0.state_dict()\n",
    "torch.save(weights_val_resnet0op, \"modelResnet0op.pth\")"
   ]
  },
  {
   "cell_type": "code",
   "execution_count": null,
   "id": "a689d1a4",
   "metadata": {},
   "outputs": [],
   "source": []
  },
  {
   "cell_type": "code",
   "execution_count": 81,
   "id": "c48e1f41",
   "metadata": {},
   "outputs": [],
   "source": []
  },
  {
   "cell_type": "code",
   "execution_count": 83,
   "id": "752aadf5",
   "metadata": {},
   "outputs": [],
   "source": [
    "\n",
    "class ResidualBlock(nn.Module):\n",
    "    def _init_(self, in_channels, out_channels, stride=1, downsample=None):\n",
    "        super(ResidualBlock, self)._init_()\n",
    "        self.conv1 = nn.Conv2d(in_channels, out_channels, kernel_size=1, stride=stride, padding=0, bias=False)\n",
    "        self.bn1 = nn.BatchNorm2d(out_channels)\n",
    "        self.relu = nn.ReLU(inplace=True)\n",
    "        self.conv2 = nn.Conv2d(out_channels, out_channels, kernel_size=3, stride=1, padding=1, bias=False)\n",
    "        self.bn2 = nn.BatchNorm2d(out_channels)\n",
    "        self.conv3 = nn.Conv2d(out_channels, out_channels * 4, kernel_size=1, stride=1, padding=0, bias=False)\n",
    "        self.bn3 = nn.BatchNorm2d(out_channels * 4)\n",
    "        self.downsample = downsample\n",
    "        self.stride = stride\n",
    "\n",
    "    def forward(self, x):\n",
    "        identity = x\n",
    "\n",
    "        out = self.conv1(x)\n",
    "        out = self.bn1(out)\n",
    "        out = self.relu(out)\n",
    "\n",
    "        out = self.conv2(out)\n",
    "        out = self.bn2(out)\n",
    "        out = self.relu(out)\n",
    "\n",
    "        out = self.conv3(out)\n",
    "        out = self.bn3(out)\n",
    "\n",
    "        if self.downsample is not None:\n",
    "            identity = self.downsample(x)\n",
    "\n",
    "        out += identity\n",
    "        out = self.relu(out)\n",
    "\n",
    "        return out\n",
    "\n",
    "class ResNet50(nn.Module):\n",
    "    def _init_(self, num_classes=7):\n",
    "        super(ResNet50, self)._init_()\n",
    "        self.in_channels = 64\n",
    "        self.conv1 = nn.Conv2d(1, 64, kernel_size=7, stride=2, padding=3, bias=False)\n",
    "        self.bn1 = nn.BatchNorm2d(64)\n",
    "        self.relu = nn.ReLU(inplace=True)\n",
    "        self.maxpool = nn.MaxPool2d(kernel_size=3, stride=2, padding=1)\n",
    "        self.layer1 = self.make_layer(ResidualBlock, 64, 3)\n",
    "        self.layer2 = self.make_layer(ResidualBlock, 128, 4, stride=2)\n",
    "        self.layer3 = self.make_layer(ResidualBlock, 256, 6, stride=2)\n",
    "        self.layer4 = self.make_layer(ResidualBlock, 512, 3, stride=2)\n",
    "        self.avgpool = nn.AdaptiveAvgPool2d((1, 1))\n",
    "        self.fc = nn.Linear(512 * 4, num_classes)\n",
    "\n",
    "    def make_layer(self, block, channels, blocks, stride=1):\n",
    "        downsample = None\n",
    "        if stride != 1 or self.in_channels != channels * 4:\n",
    "            downsample = nn.Sequential(\n",
    "                nn.Conv2d(self.in_channels, channels * 4, kernel_size=1, stride=stride, bias=False),\n",
    "                nn.BatchNorm2d(channels * 4),\n",
    "            )\n",
    "\n",
    "        layers = []\n",
    "        layers.append(block(self.in_channels, channels, stride, downsample))\n",
    "        self.in_channels = channels * 4\n",
    "        for _ in range(1, blocks):\n",
    "            layers.append(block(self.in_channels, channels))\n",
    "\n",
    "        return nn.Sequential(*layers)\n",
    "\n",
    "    def forward(self, x):\n",
    "        x = self.conv1(x)\n",
    "        x = self.bn1(x)\n",
    "        x = self.relu(x)\n",
    "        x = self.maxpool(x)\n",
    "\n",
    "        x = self.layer1(x)\n",
    "        x = self.layer2(x)\n",
    "        x = self.layer3(x)\n",
    "        x = self.layer4(x)\n",
    "\n",
    "        x = self.avgpool(x)\n",
    "        x = x.view(x.size(0), -1)\n",
    "        x = self.fc(x)\n",
    "\n",
    "        return x\n",
    "modelResnet = ResNet50()"
   ]
  },
  {
   "cell_type": "code",
   "execution_count": 84,
   "id": "76530b7c",
   "metadata": {},
   "outputs": [
    {
     "name": "stdout",
     "output_type": "stream",
     "text": [
      "Epoch No.1 -> Training loss: 0.0832\n",
      "Epoch No.1 -> Training Accuracy: 0.4958\n",
      "Epoch No.1 - Validation loss: 0.0709\n",
      "Epoch No.1 - Validation Accuracy: 0.5745\n",
      "Epoch No.2 -> Training loss: 0.0625\n",
      "Epoch No.2 -> Training Accuracy: 0.6304\n",
      "Epoch No.2 - Validation loss: 0.0730\n",
      "Epoch No.2 - Validation Accuracy: 0.5751\n",
      "Epoch No.3 -> Training loss: 0.0451\n",
      "Epoch No.3 -> Training Accuracy: 0.7405\n",
      "Epoch No.3 - Validation loss: 0.0794\n",
      "Epoch No.3 - Validation Accuracy: 0.5848\n",
      "Epoch No.4 -> Training loss: 0.0312\n",
      "Epoch No.4 -> Training Accuracy: 0.8214\n",
      "Epoch No.4 - Validation loss: 0.0886\n",
      "Epoch No.4 - Validation Accuracy: 0.5963\n",
      "Epoch No.5 -> Training loss: 0.0216\n",
      "Epoch No.5 -> Training Accuracy: 0.8783\n",
      "Epoch No.5 - Validation loss: 0.0978\n",
      "Epoch No.5 - Validation Accuracy: 0.5862\n",
      "Epoch No.6 -> Training loss: 0.0165\n",
      "Epoch No.6 -> Training Accuracy: 0.9062\n",
      "Epoch No.6 - Validation loss: 0.1039\n",
      "Epoch No.6 - Validation Accuracy: 0.6046\n",
      "Epoch No.7 -> Training loss: 0.0127\n",
      "Epoch No.7 -> Training Accuracy: 0.9279\n",
      "Epoch No.7 - Validation loss: 0.1163\n",
      "Epoch No.7 - Validation Accuracy: 0.5804\n",
      "Epoch No.8 -> Training loss: 0.0110\n",
      "Epoch No.8 -> Training Accuracy: 0.9385\n",
      "Epoch No.8 - Validation loss: 0.1155\n",
      "Epoch No.8 - Validation Accuracy: 0.6057\n",
      "Epoch No.9 -> Training loss: 0.0094\n",
      "Epoch No.9 -> Training Accuracy: 0.9475\n",
      "Epoch No.9 - Validation loss: 0.1182\n",
      "Epoch No.9 - Validation Accuracy: 0.5988\n",
      "Epoch No.10 -> Training loss: 0.0085\n",
      "Epoch No.10 -> Training Accuracy: 0.9536\n",
      "Epoch No.10 - Validation loss: 0.1155\n",
      "Epoch No.10 - Validation Accuracy: 0.6124\n",
      "Execution time: 967.8281 seconds\n"
     ]
    }
   ],
   "source": [
    "import time\n",
    "\n",
    "s = time.time()\n",
    "\n",
    "torch.manual_seed(18)\n",
    "np.random.seed(18)\n",
    "\n",
    "criterion = nn.CrossEntropyLoss()\n",
    "optimizer = torch.optim.Adam(modelResnet.parameters(), lr=0.0001)\n",
    "\n",
    "epochs = 10\n",
    "\n",
    "bs = 16\n",
    "loss_val_array, loss_train, accuracy_train_array, accuracy_val_array = [], [], [], []\n",
    "\n",
    "device = torch.device(\"cuda\" if torch.cuda.is_available() else \"cpu\")\n",
    "modelResnet.to(device)\n",
    "\n",
    "for epoch in range(epochs):\n",
    "    modelResnet.train()\n",
    "    loss_sum_train = 0\n",
    "    correct_train = 0\n",
    "    total_train = 0\n",
    "\n",
    "    for j in range(0, len(X_train), bs):\n",
    "        X_traini = X_train[j:j+bs].to(device)\n",
    "        Y_traini = Y_train[j:j+bs].to(device)\n",
    "        optimizer.zero_grad()\n",
    "        y_pred = modelResnet(X_traini)\n",
    "        loss = criterion(y_pred, Y_traini)\n",
    "        loss.backward()\n",
    "        optimizer.step()\n",
    "\n",
    "        _, predicted = torch.max(y_pred, 1)\n",
    "        correct_train += (predicted == Y_traini).sum().item()\n",
    "        total_train += Y_traini.size(0)\n",
    "\n",
    "        loss_sum_train += loss.item()\n",
    "\n",
    "    accuracy_train = correct_train / total_train\n",
    "    accuracy_train_array.append(accuracy_train)\n",
    "\n",
    "    loss_avg = loss_sum_train / len(X_train)\n",
    "    loss_train.append(loss_avg)\n",
    "\n",
    "    print(f\"Epoch No.{epoch + 1} -> Training loss: {loss_avg:.4f}\")\n",
    "    print(f\"Epoch No.{epoch + 1} -> Training Accuracy: {accuracy_train:.4f}\")\n",
    "\n",
    "    modelResnet.eval()\n",
    "    loss_val_sum = 0\n",
    "    correct_val = 0\n",
    "    total_val = 0\n",
    "\n",
    "    with torch.no_grad():\n",
    "        for k in range(0, len(X_val), bs):\n",
    "            X_vali = X_val[k:k+bs].to(device)\n",
    "            Y_vali = Y_val[k:k+bs].to(device)\n",
    "            y_pred_val = modelResnet(X_vali)\n",
    "            loss_val = criterion(y_pred_val, Y_vali)\n",
    "            loss_val_sum += loss_val.item()\n",
    "\n",
    "            _, predicted_val = torch.max(y_pred_val, 1)\n",
    "            correct_val += (predicted_val == Y_vali).sum().item()\n",
    "            total_val += Y_vali.size(0)\n",
    "\n",
    "    accuracy_val = correct_val / total_val\n",
    "    accuracy_val_array.append(accuracy_val)\n",
    "\n",
    "    loss_val_avg = loss_val_sum / len(X_val)\n",
    "    loss_val_array.append(loss_val_avg)\n",
    "\n",
    "    print(f\"Epoch No.{epoch + 1} - Validation loss: {loss_val_avg:.4f}\")\n",
    "    print(f\"Epoch No.{epoch + 1} - Validation Accuracy: {accuracy_val:.4f}\")\n",
    "\n",
    "e = time.time()\n",
    "\n",
    "seconds = e - s\n",
    "\n",
    "print(f\"Execution time: {seconds:.4f} seconds\")\n"
   ]
  },
  {
   "cell_type": "code",
   "execution_count": 85,
   "id": "6545284b",
   "metadata": {},
   "outputs": [
    {
     "name": "stdout",
     "output_type": "stream",
     "text": [
      "Accuracy: 62.25%\n"
     ]
    }
   ],
   "source": [
    "with torch.no_grad():\n",
    "    modelResnet.eval()\n",
    "    X_test = X_test.to(device)  \n",
    "    Y_test = Y_test.to(device)  \n",
    "    loss_test_sum = 0\n",
    "    acc_test = 0\n",
    "    y_pred = []\n",
    "    y_true = []\n",
    "\n",
    "    for i in range(len(X_test)):\n",
    "        X_test_i = X_test[i:i+1]\n",
    "        Y_test_i = Y_test[i:i+1]\n",
    "\n",
    "        y_pred_test = modelResnet(X_test_i)\n",
    "        y_pred.append(torch.argmax(y_pred_test, dim=1).item())\n",
    "        y_true.append(Y_test_i.item())\n",
    "\n",
    "        loss_test = criterion(y_pred_test, Y_test_i)\n",
    "        loss_test_sum += loss_test.item()  \n",
    "\n",
    "        _, predicted_test = torch.max(y_pred_test.data, 1)\n",
    "        accuracy_test = (predicted_test == Y_test_i).sum().item() / len(Y_test_i)\n",
    "        acc_test += accuracy_test\n",
    "\n",
    "    accuracy_test_result = acc_test / len(X_test)\n",
    "    print(f\"Accuracy: {accuracy_test_result * 100:.2f}%\")\n",
    "\n",
    "    loss = loss_test_sum / len(X_test)  \n",
    "\n",
    "y_true = np.array(y_true)\n",
    "y_pred = np.array(y_pred)\n"
   ]
  },
  {
   "cell_type": "code",
   "execution_count": 86,
   "id": "b27b323d",
   "metadata": {},
   "outputs": [],
   "source": [
    "weights_val_resnet = modelResnet.state_dict()\n",
    "torch.save(weights_val_resnet, \"modelResnet.pth\")"
   ]
  },
  {
   "cell_type": "code",
   "execution_count": 87,
   "id": "86721ab8",
   "metadata": {},
   "outputs": [
    {
     "data": {
      "image/png": "[encoded data removed]",
      "text/plain": [
       "<Figure size 1440x720 with 2 Axes>"
      ]
     },
     "metadata": {
      "needs_background": "light"
     },
     "output_type": "display_data"
    }
   ],
   "source": [
    "plt.figure(figsize=(20, 10))\n",
    "\n",
    "plt.subplot(1, 2, 1)\n",
    "plt.plot([i for i in range(1,epochs+1)], loss_train, label=\"Training Loss\")\n",
    "plt.plot([i for i in range(1,epochs+1)], loss_val_array, label=\"Validation Loss\")\n",
    "plt.legend()\n",
    "plt.xlabel(\"Epoch\")\n",
    "plt.ylabel(\"Loss\")\n",
    "\n",
    "plt.subplot(1, 2, 2)\n",
    "plt.plot([i for i in range(1,epochs+1)], accuracy_train_array, label = \"Training Accuracy\")\n",
    "plt.plot([i for i in range(1,epochs+1)], accuracy_val_array, label = \"Validation Accuracy\")\n",
    "plt.legend()\n",
    "plt.xlabel(\"Epoch\")\n",
    "plt.ylabel(\"Accuracy\")\n",
    "\n",
    "plt.show()"
   ]
  },
  {
   "cell_type": "code",
   "execution_count": 88,
   "id": "19f11953",
   "metadata": {},
   "outputs": [
    {
     "name": "stdout",
     "output_type": "stream",
     "text": [
      "Class 1 - True Positive Rate: 0.51, False Positive Rate: 0.08\n",
      "Class 1 - Precision: 0.52, Recall: 0.51\n",
      "\n",
      "Class 2 - True Positive Rate: 0.53, False Positive Rate: 0.00\n",
      "Class 2 - Precision: 0.69, Recall: 0.53\n",
      "\n",
      "Class 3 - True Positive Rate: 0.42, False Positive Rate: 0.07\n",
      "Class 3 - Precision: 0.50, Recall: 0.42\n",
      "\n",
      "Class 4 - True Positive Rate: 0.84, False Positive Rate: 0.06\n",
      "Class 4 - Precision: 0.82, Recall: 0.84\n",
      "\n",
      "Class 5 - True Positive Rate: 0.47, False Positive Rate: 0.10\n",
      "Class 5 - Precision: 0.49, Recall: 0.47\n",
      "\n",
      "Class 6 - True Positive Rate: 0.76, False Positive Rate: 0.04\n",
      "Class 6 - Precision: 0.70, Recall: 0.76\n",
      "\n",
      "Class 7 - True Positive Rate: 0.64, False Positive Rate: 0.10\n",
      "Class 7 - Precision: 0.57, Recall: 0.64\n",
      "\n"
     ]
    }
   ],
   "source": [
    "con_mat = confusion_matrix(y_true, y_pred)\n",
    "\n",
    "number_of_classes = con_mat.shape[0]\n",
    "\n",
    "for i in range(number_of_classes):\n",
    "\n",
    "    tp = con_mat[i, i]\n",
    "    fn = np.sum(con_mat[i, :]) - tp\n",
    "    fp = np.sum(con_mat[:, i]) - tp\n",
    "    tn = np.sum(con_mat) - (tp + fn + fp)\n",
    "\n",
    "    precision = tp / (tp + fp) if tp + fp != 0 else 0\n",
    "    recall = tp / (tp + fn) if tp + fn != 0 else 0\n",
    "\n",
    "    tpr = tp / (tp + fn) if tp + fn != 0 else 0\n",
    "    fpr = fp / (fp + tn) if fp + tn != 0 else 0\n",
    "\n",
    "    print(f\"Class {i + 1} - True Positive Rate: {tpr:.2f}, False Positive Rate: {fpr:.2f}\")\n",
    "    print(f\"Class {i + 1} - Precision: {precision:.2f}, Recall: {recall:.2f}\")\n",
    "    print()"
   ]
  },
  {
   "cell_type": "code",
   "execution_count": 89,
   "id": "70415d13",
   "metadata": {},
   "outputs": [
    {
     "data": {
      "image/png": "[encoded data removed]",
      "text/plain": [
       "<Figure size 432x288 with 2 Axes>"
      ]
     },
     "metadata": {
      "needs_background": "light"
     },
     "output_type": "display_data"
    },
    {
     "data": {
      "text/plain": [
       "<Figure size 1440x720 with 0 Axes>"
      ]
     },
     "metadata": {},
     "output_type": "display_data"
    }
   ],
   "source": [
    "sns.heatmap(con_mat, annot = True, cmap = 'cividis', cbar = True)\n",
    "\n",
    "plt.xlabel('Predicted')\n",
    "plt.ylabel('True')\n",
    "plt.figure(figsize=(20,10))\n",
    "plt.show()"
   ]
  },
  {
   "cell_type": "code",
   "execution_count": 90,
   "id": "ae88623c",
   "metadata": {},
   "outputs": [
    {
     "name": "stdout",
     "output_type": "stream",
     "text": [
      "Precision: 0.6173411703639246\n",
      "Recall: 0.6224575090554472\n",
      "F1: 0.6186796475942096\n"
     ]
    }
   ],
   "source": [
    "precision = precision_score(y_true, y_pred, average='weighted')\n",
    "recall = recall_score(y_true, y_pred, average='weighted')\n",
    "f1 = f1_score(y_true, y_pred, average='weighted')\n",
    "print(f\"Precision: {precision}\")\n",
    "print(f\"Recall: {recall}\")\n",
    "print(f\"F1: {f1}\")"
   ]
  },
  {
   "cell_type": "code",
   "execution_count": 1,
   "id": "ea525b1a",
   "metadata": {},
   "outputs": [
    {
     "ename": "NameError",
     "evalue": "name 'get_cfg' is not defined",
     "output_type": "error",
     "traceback": [
      "\u001b[0;31m---------------------------------------------------------------------------\u001b[0m",
      "\u001b[0;31mNameError\u001b[0m                                 Traceback (most recent call last)",
      "Cell \u001b[0;32mIn[1], line 1\u001b[0m\n\u001b[0;32m----> 1\u001b[0m cfg \u001b[38;5;241m=\u001b[39m get_cfg()\n\u001b[1;32m      2\u001b[0m cfg\u001b[38;5;241m.\u001b[39mmerge_from_file(model_zoo\u001b[38;5;241m.\u001b[39mget_config_file(\u001b[38;5;124m\"\u001b[39m\u001b[38;5;124mCOCO-Keypoints/keypoint_rcnn_R_50_FPN_3x.yaml\u001b[39m\u001b[38;5;124m\"\u001b[39m))\n\u001b[1;32m      3\u001b[0m cfg\u001b[38;5;241m.\u001b[39mMODEL\u001b[38;5;241m.\u001b[39mROI_HEADS\u001b[38;5;241m.\u001b[39mSCORE_THRESH_TEST \u001b[38;5;241m=\u001b[39m \u001b[38;5;241m0.5\u001b[39m  \u001b[38;5;66;03m# Set threshold for this model\u001b[39;00m\n",
      "\u001b[0;31mNameError\u001b[0m: name 'get_cfg' is not defined"
     ]
    }
   ],
   "source": [
    "cfg = get_cfg()\n",
    "cfg.merge_from_file(model_zoo.get_config_file(\"COCO-Keypoints/keypoint_rcnn_R_50_FPN_3x.yaml\"))\n",
    "cfg.MODEL.ROI_HEADS.SCORE_THRESH_TEST = 0.5  # Set threshold for this model\n",
    "cfg.MODEL.WEIGHTS = model_zoo.get_checkpoint_url(\"COCO-Keypoints/keypoint_rcnn_R_50_FPN_3x.yaml\")\n",
    "cfg.MODEL.DEVICE = \"cuda\" if torch.cuda.is_available() else \"cpu\"\n",
    "\n",
    "predictor = DefaultPredictor(cfg)"
   ]
  },
  {
   "cell_type": "code",
   "execution_count": null,
   "id": "219d2399",
   "metadata": {},
   "outputs": [],
   "source": []
  }
 ],
 "metadata": {
  "accelerator": "GPU",
  "colab": {
   "gpuType": "T4",
   "provenance": []
  },
  "kernelspec": {
   "display_name": "Python 3 (ipykernel)",
   "language": "python",
   "name": "python3"
  },
  "language_info": {
   "codemirror_mode": {
    "name": "ipython",
    "version": 3
   },
   "file_extension": ".py",
   "mimetype": "text/x-python",
   "name": "python",
   "nbconvert_exporter": "python",
   "pygments_lexer": "ipython3",
   "version": "3.11.4"
  }
 },
 "nbformat": 4,
 "nbformat_minor": 5
}
